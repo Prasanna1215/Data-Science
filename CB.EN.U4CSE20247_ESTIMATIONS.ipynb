{
  "cells": [
    {
      "cell_type": "markdown",
      "metadata": {
        "id": "NAIBuDuRjRL1"
      },
      "source": [
        "## Estimation\n",
        "Percentiles, Quantiles & Bootstrap"
      ]
    },
    {
      "cell_type": "code",
      "execution_count": null,
      "metadata": {
        "id": "E7s7Wx9PjRL4"
      },
      "outputs": [],
      "source": [
        "# import the module \n",
        "import pandas as pd "
      ]
    },
    {
      "cell_type": "code",
      "execution_count": null,
      "metadata": {
        "id": "eHRPn35ejRL5",
        "outputId": "6730b4be-f2a9-468f-9af8-a90cde9353c9"
      },
      "outputs": [
        {
          "data": {
            "text/html": [
              "<div>\n",
              "<style scoped>\n",
              "    .dataframe tbody tr th:only-of-type {\n",
              "        vertical-align: middle;\n",
              "    }\n",
              "\n",
              "    .dataframe tbody tr th {\n",
              "        vertical-align: top;\n",
              "    }\n",
              "\n",
              "    .dataframe thead th {\n",
              "        text-align: right;\n",
              "    }\n",
              "</style>\n",
              "<table border=\"1\" class=\"dataframe\">\n",
              "  <thead>\n",
              "    <tr style=\"text-align: right;\">\n",
              "      <th></th>\n",
              "      <th>Name</th>\n",
              "      <th>Location</th>\n",
              "      <th>Pay</th>\n",
              "      <th>Percentile Rank</th>\n",
              "    </tr>\n",
              "  </thead>\n",
              "  <tbody>\n",
              "    <tr>\n",
              "      <th>0</th>\n",
              "      <td>Mukul</td>\n",
              "      <td>Saharanpur</td>\n",
              "      <td>50000</td>\n",
              "      <td>0.2</td>\n",
              "    </tr>\n",
              "    <tr>\n",
              "      <th>1</th>\n",
              "      <td>Rohan</td>\n",
              "      <td>Meerut</td>\n",
              "      <td>70000</td>\n",
              "      <td>1.0</td>\n",
              "    </tr>\n",
              "    <tr>\n",
              "      <th>2</th>\n",
              "      <td>Mayank</td>\n",
              "      <td>Agra</td>\n",
              "      <td>62000</td>\n",
              "      <td>0.6</td>\n",
              "    </tr>\n",
              "    <tr>\n",
              "      <th>3</th>\n",
              "      <td>Shubham</td>\n",
              "      <td>Saharanpur</td>\n",
              "      <td>67000</td>\n",
              "      <td>0.8</td>\n",
              "    </tr>\n",
              "    <tr>\n",
              "      <th>4</th>\n",
              "      <td>Aakash</td>\n",
              "      <td>Meerut</td>\n",
              "      <td>56000</td>\n",
              "      <td>0.4</td>\n",
              "    </tr>\n",
              "  </tbody>\n",
              "</table>\n",
              "</div>"
            ],
            "text/plain": [
              "      Name    Location    Pay  Percentile Rank\n",
              "0    Mukul  Saharanpur  50000              0.2\n",
              "1    Rohan      Meerut  70000              1.0\n",
              "2   Mayank        Agra  62000              0.6\n",
              "3  Shubham  Saharanpur  67000              0.8\n",
              "4   Aakash      Meerut  56000              0.4"
            ]
          },
          "metadata": {},
          "output_type": "display_data"
        }
      ],
      "source": [
        "# create a DataFrame  \n",
        "data = {'Name': ['Mukul', 'Rohan', 'Mayank',  \n",
        "                 'Shubham', 'Aakash'], \n",
        "        'Location' : ['Saharanpur', 'Meerut', 'Agra',  \n",
        "                      'Saharanpur', 'Meerut'], \n",
        "        'Pay' : [50000, 70000, 62000, 67000, 56000]}  \n",
        "df = pd.DataFrame(data)   \n",
        "  \n",
        "# create a new column of percentile rank \n",
        "df['Percentile Rank'] = df.Pay.rank(pct = True) \n",
        "  \n",
        "# displaying the percentile rank \n",
        "display(df) "
      ]
    },
    {
      "cell_type": "code",
      "execution_count": null,
      "metadata": {
        "id": "y17o3blDjRL6",
        "outputId": "7ce7f5d3-c5aa-48e1-9abb-5784efa8f132"
      },
      "outputs": [
        {
          "data": {
            "text/html": [
              "<div>\n",
              "<style scoped>\n",
              "    .dataframe tbody tr th:only-of-type {\n",
              "        vertical-align: middle;\n",
              "    }\n",
              "\n",
              "    .dataframe tbody tr th {\n",
              "        vertical-align: top;\n",
              "    }\n",
              "\n",
              "    .dataframe thead th {\n",
              "        text-align: right;\n",
              "    }\n",
              "</style>\n",
              "<table border=\"1\" class=\"dataframe\">\n",
              "  <thead>\n",
              "    <tr style=\"text-align: right;\">\n",
              "      <th></th>\n",
              "      <th>name</th>\n",
              "      <th>runs</th>\n",
              "      <th>Percentile Rank</th>\n",
              "    </tr>\n",
              "  </thead>\n",
              "  <tbody>\n",
              "    <tr>\n",
              "      <th>0</th>\n",
              "      <td>Tendulkar</td>\n",
              "      <td>18426</td>\n",
              "      <td>1.0</td>\n",
              "    </tr>\n",
              "    <tr>\n",
              "      <th>1</th>\n",
              "      <td>Sangakkara</td>\n",
              "      <td>14234</td>\n",
              "      <td>0.9</td>\n",
              "    </tr>\n",
              "    <tr>\n",
              "      <th>2</th>\n",
              "      <td>Ponting</td>\n",
              "      <td>13704</td>\n",
              "      <td>0.8</td>\n",
              "    </tr>\n",
              "    <tr>\n",
              "      <th>3</th>\n",
              "      <td>Jayasurya</td>\n",
              "      <td>13430</td>\n",
              "      <td>0.7</td>\n",
              "    </tr>\n",
              "    <tr>\n",
              "      <th>4</th>\n",
              "      <td>Jayawardene</td>\n",
              "      <td>12650</td>\n",
              "      <td>0.6</td>\n",
              "    </tr>\n",
              "    <tr>\n",
              "      <th>5</th>\n",
              "      <td>Kohli</td>\n",
              "      <td>11867</td>\n",
              "      <td>0.5</td>\n",
              "    </tr>\n",
              "    <tr>\n",
              "      <th>6</th>\n",
              "      <td>Haq</td>\n",
              "      <td>11739</td>\n",
              "      <td>0.4</td>\n",
              "    </tr>\n",
              "    <tr>\n",
              "      <th>7</th>\n",
              "      <td>Kallis</td>\n",
              "      <td>11579</td>\n",
              "      <td>0.3</td>\n",
              "    </tr>\n",
              "    <tr>\n",
              "      <th>8</th>\n",
              "      <td>Ganguly</td>\n",
              "      <td>11363</td>\n",
              "      <td>0.2</td>\n",
              "    </tr>\n",
              "    <tr>\n",
              "      <th>9</th>\n",
              "      <td>Dravid</td>\n",
              "      <td>10889</td>\n",
              "      <td>0.1</td>\n",
              "    </tr>\n",
              "  </tbody>\n",
              "</table>\n",
              "</div>"
            ],
            "text/plain": [
              "          name   runs  Percentile Rank\n",
              "0    Tendulkar  18426              1.0\n",
              "1   Sangakkara  14234              0.9\n",
              "2      Ponting  13704              0.8\n",
              "3    Jayasurya  13430              0.7\n",
              "4  Jayawardene  12650              0.6\n",
              "5        Kohli  11867              0.5\n",
              "6          Haq  11739              0.4\n",
              "7       Kallis  11579              0.3\n",
              "8      Ganguly  11363              0.2\n",
              "9       Dravid  10889              0.1"
            ]
          },
          "metadata": {},
          "output_type": "display_data"
        }
      ],
      "source": [
        " \n",
        "# create a DataFrame  \n",
        "ODI_runs = {'name': ['Tendulkar', 'Sangakkara', 'Ponting',  \n",
        "                      'Jayasurya', 'Jayawardene', 'Kohli',  \n",
        "                      'Haq', 'Kallis', 'Ganguly', 'Dravid'],  \n",
        "            'runs': [18426, 14234, 13704, 13430, 12650,  \n",
        "                     11867, 11739, 11579, 11363, 10889]}  \n",
        "df = pd.DataFrame(ODI_runs)   \n",
        "  \n",
        "# create a new column of percentile rank \n",
        "df['Percentile Rank'] = df.runs.rank(pct = True) \n",
        "  \n",
        "# displaying the percentile rank \n",
        "display(df)  "
      ]
    },
    {
      "cell_type": "code",
      "execution_count": null,
      "metadata": {
        "id": "OTgXUWhVjRL7"
      },
      "outputs": [],
      "source": [
        "df.runs.rank?"
      ]
    },
    {
      "cell_type": "code",
      "execution_count": null,
      "metadata": {
        "id": "yt_PvEl0jRL7"
      },
      "outputs": [],
      "source": [
        "scores_and_sections = pd.read_csv('C:/Users/pn_kumar/Desktop/Classes/2022-23Odd/19CSE304 FoDS_Odd22-23/Lectures&Lab/2.ColLab_Pandas_PreProcessing_Manipulation/datasets/scores_by_section.csv')"
      ]
    },
    {
      "cell_type": "code",
      "execution_count": null,
      "metadata": {
        "id": "Bm1WtvYUjRL7",
        "outputId": "72500e85-6299-4090-c02f-6ab546e6b4d8"
      },
      "outputs": [
        {
          "data": {
            "text/html": [
              "<div>\n",
              "<style scoped>\n",
              "    .dataframe tbody tr th:only-of-type {\n",
              "        vertical-align: middle;\n",
              "    }\n",
              "\n",
              "    .dataframe tbody tr th {\n",
              "        vertical-align: top;\n",
              "    }\n",
              "\n",
              "    .dataframe thead th {\n",
              "        text-align: right;\n",
              "    }\n",
              "</style>\n",
              "<table border=\"1\" class=\"dataframe\">\n",
              "  <thead>\n",
              "    <tr style=\"text-align: right;\">\n",
              "      <th></th>\n",
              "      <th>Unnamed: 0</th>\n",
              "      <th>Section</th>\n",
              "      <th>Midterm</th>\n",
              "    </tr>\n",
              "  </thead>\n",
              "  <tbody>\n",
              "    <tr>\n",
              "      <th>0</th>\n",
              "      <td>0</td>\n",
              "      <td>1</td>\n",
              "      <td>22</td>\n",
              "    </tr>\n",
              "    <tr>\n",
              "      <th>1</th>\n",
              "      <td>1</td>\n",
              "      <td>2</td>\n",
              "      <td>12</td>\n",
              "    </tr>\n",
              "    <tr>\n",
              "      <th>2</th>\n",
              "      <td>2</td>\n",
              "      <td>2</td>\n",
              "      <td>23</td>\n",
              "    </tr>\n",
              "    <tr>\n",
              "      <th>3</th>\n",
              "      <td>3</td>\n",
              "      <td>2</td>\n",
              "      <td>14</td>\n",
              "    </tr>\n",
              "    <tr>\n",
              "      <th>4</th>\n",
              "      <td>4</td>\n",
              "      <td>1</td>\n",
              "      <td>20</td>\n",
              "    </tr>\n",
              "  </tbody>\n",
              "</table>\n",
              "</div>"
            ],
            "text/plain": [
              "   Unnamed: 0  Section  Midterm\n",
              "0           0        1       22\n",
              "1           1        2       12\n",
              "2           2        2       23\n",
              "3           3        2       14\n",
              "4           4        1       20"
            ]
          },
          "execution_count": 11,
          "metadata": {},
          "output_type": "execute_result"
        }
      ],
      "source": [
        "scores_and_sections.head()"
      ]
    },
    {
      "cell_type": "code",
      "execution_count": null,
      "metadata": {
        "id": "B0nmhn0sjRL7",
        "outputId": "7eec399b-5075-4217-955d-7b361b8b86bb"
      },
      "outputs": [
        {
          "data": {
            "text/plain": [
              "<matplotlib.axes._subplots.AxesSubplot at 0x8c455c0>"
            ]
          },
          "execution_count": 9,
          "metadata": {},
          "output_type": "execute_result"
        },
        {
          "data": {
            "image/png": "[encoded data removed]",
            "text/plain": [
              "<Figure size 432x288 with 1 Axes>"
            ]
          },
          "metadata": {
            "needs_background": "light"
          },
          "output_type": "display_data"
        }
      ],
      "source": [
        "scores_and_sections['Midterm'].hist()"
      ]
    },
    {
      "cell_type": "markdown",
      "metadata": {
        "id": "tYn6elp5jRL8"
      },
      "source": [
        "DataFrame.describe(self, percentiles=None, include=None, exclude=None)"
      ]
    },
    {
      "cell_type": "code",
      "execution_count": null,
      "metadata": {
        "id": "IIQ522t4jRL8",
        "outputId": "d37c119d-0477-4498-e569-5fde027b98ed"
      },
      "outputs": [
        {
          "data": {
            "text/plain": [
              "count    359.000000\n",
              "mean      15.493036\n",
              "std        6.081323\n",
              "min        0.000000\n",
              "25%       11.000000\n",
              "50%       16.000000\n",
              "75%       20.000000\n",
              "max       25.000000\n",
              "Name: Midterm, dtype: float64"
            ]
          },
          "execution_count": 10,
          "metadata": {},
          "output_type": "execute_result"
        }
      ],
      "source": [
        "scores_and_sections.Midterm.describe()"
      ]
    },
    {
      "cell_type": "code",
      "execution_count": null,
      "metadata": {
        "id": "OfsUU7L-jRL9",
        "outputId": "2b6c153b-7bb3-49ef-ba83-8981598ed4cf"
      },
      "outputs": [
        {
          "data": {
            "text/plain": [
              "0      22\n",
              "1      12\n",
              "2      23\n",
              "3      14\n",
              "4      20\n",
              "       ..\n",
              "354    24\n",
              "355    16\n",
              "356    17\n",
              "357    16\n",
              "358    14\n",
              "Name: Midterm, Length: 359, dtype: int64"
            ]
          },
          "execution_count": 38,
          "metadata": {},
          "output_type": "execute_result"
        }
      ],
      "source": [
        "scores_and_sections.Midterm"
      ]
    },
    {
      "cell_type": "code",
      "execution_count": null,
      "metadata": {
        "id": "WsdIeWGYjRL9",
        "outputId": "6da355e5-887a-40e6-e9ea-ff0acb93018c"
      },
      "outputs": [
        {
          "data": {
            "text/plain": [
              "23.0"
            ]
          },
          "execution_count": 12,
          "metadata": {},
          "output_type": "execute_result"
        }
      ],
      "source": [
        "scores_and_sections.Midterm.quantile(0.9)"
      ]
    },
    {
      "cell_type": "code",
      "execution_count": null,
      "metadata": {
        "id": "lepabioDjRL9"
      },
      "outputs": [],
      "source": [
        "import scipy.stats "
      ]
    },
    {
      "cell_type": "code",
      "execution_count": null,
      "metadata": {
        "id": "PJZR1mLOjRL9",
        "outputId": "211f0ebb-17b6-43a8-ce36-18a7978f7300"
      },
      "outputs": [
        {
          "data": {
            "text/plain": [
              "94.01114206128133"
            ]
          },
          "execution_count": 16,
          "metadata": {},
          "output_type": "execute_result"
        }
      ],
      "source": [
        "scipy.stats.percentileofscore(scores_and_sections['Midterm'].values, 24)"
      ]
    },
    {
      "cell_type": "code",
      "execution_count": null,
      "metadata": {
        "id": "l2sfTy4FjRL-",
        "outputId": "4bfee1d1-934a-4bc4-f3a4-c940c1c5c892"
      },
      "outputs": [
        {
          "data": {
            "text/plain": [
              "75.0"
            ]
          },
          "execution_count": 18,
          "metadata": {},
          "output_type": "execute_result"
        }
      ],
      "source": [
        "scipy.stats.percentileofscore([1, 2, 3, 4], 3)"
      ]
    },
    {
      "cell_type": "markdown",
      "metadata": {
        "id": "8HJg5q0AjRL-"
      },
      "source": [
        "#### Quantiles\n",
        "The first quartile of a numercial collection is the 25th percentile. The terminology arises from\n",
        "the first quarter. The second quartile is the median, and the third quartile is the 75th\n",
        "percentile"
      ]
    },
    {
      "cell_type": "code",
      "execution_count": null,
      "metadata": {
        "id": "nxDnm1iDjRL-",
        "outputId": "7c420958-ad0f-4e71-e895-fd91cd45ab1f"
      },
      "outputs": [
        {
          "data": {
            "text/plain": [
              "11.0"
            ]
          },
          "execution_count": 19,
          "metadata": {},
          "output_type": "execute_result"
        }
      ],
      "source": [
        "scores_and_sections.Midterm.quantile(0.25)"
      ]
    },
    {
      "cell_type": "code",
      "execution_count": null,
      "metadata": {
        "id": "CR5BrddOjRL-",
        "outputId": "66c71033-6b0b-4169-f973-81bc44f2cae0"
      },
      "outputs": [
        {
          "data": {
            "text/plain": [
              "20.0"
            ]
          },
          "execution_count": 20,
          "metadata": {},
          "output_type": "execute_result"
        }
      ],
      "source": [
        "scores_and_sections.Midterm.quantile(0.75)"
      ]
    },
    {
      "cell_type": "markdown",
      "metadata": {
        "id": "xJu7NzJYjRL-"
      },
      "source": [
        "### Bootstrap"
      ]
    },
    {
      "cell_type": "markdown",
      "metadata": {
        "id": "lPuLm30qjRL_"
      },
      "source": [
        "A data scientist is using the data in a random sample to estimate an unknown parameter.One uses the sample to calculate the value of a statistic that will be used as the estimate. Once estimate is calculated the observed value of the statistic is the estimate."
      ]
    },
    {
      "cell_type": "markdown",
      "metadata": {
        "id": "dfqQArERjRL_"
      },
      "source": [
        "But the random sample is just one of numerous possible random samples, and thus the estimate is just one\n",
        "of numerous plausible estimates.\n",
        "By how much could those estimates vary? To answer this, it appears as though one needs to\n",
        "draw another sample from the population, and compute a new estimate based on the new\n",
        "sample. But then we may not have the resources to go back to the population and draw another\n",
        "sample."
      ]
    },
    {
      "cell_type": "markdown",
      "metadata": {
        "id": "QrlIzmzvjRL_"
      },
      "source": [
        "Fortunately, a brilliant idea called the bootstrap comes to the rescue. Since it is not feasible to\n",
        "generate new samples from the population, the bootstrap generates new random samples by a method called resampling: the new samples are drawn at random from the original sample.\n",
        "See how and why the bootstrap works. "
      ]
    },
    {
      "cell_type": "code",
      "execution_count": null,
      "metadata": {
        "id": "f9agjBRSjRL_"
      },
      "outputs": [],
      "source": [
        "pp367"
      ]
    },
    {
      "cell_type": "code",
      "execution_count": null,
      "metadata": {
        "id": "3nw8NCSnjRL_"
      },
      "outputs": [],
      "source": [
        "sf2015 = pd.read_csv('C:/Users/pn_kumar/Desktop/Classes/2022-23Odd/19CSE304FoDS_/labs/datasets/san_francisco_2015.csv')"
      ]
    },
    {
      "cell_type": "code",
      "execution_count": null,
      "metadata": {
        "id": "nSNqE-ycjRL_",
        "outputId": "a0881a44-02b5-436b-f061-7e9218947ca8"
      },
      "outputs": [
        {
          "data": {
            "text/plain": [
              "(42989, 23)"
            ]
          },
          "execution_count": 24,
          "metadata": {},
          "output_type": "execute_result"
        }
      ],
      "source": [
        "sf2015.shape"
      ]
    },
    {
      "cell_type": "markdown",
      "metadata": {
        "id": "7yRCByxhjRMA"
      },
      "source": [
        "There is one row for each of 42,989 employees. There are numerous columns containing information about City departmental affiliation and details of the different parts of the employee's compensation package. "
      ]
    },
    {
      "cell_type": "code",
      "execution_count": null,
      "metadata": {
        "id": "_Iewf9F8jRMA",
        "outputId": "3893d3e8-3cee-44d1-e3da-1296346b39bd"
      },
      "outputs": [
        {
          "data": {
            "text/html": [
              "<div>\n",
              "<style scoped>\n",
              "    .dataframe tbody tr th:only-of-type {\n",
              "        vertical-align: middle;\n",
              "    }\n",
              "\n",
              "    .dataframe tbody tr th {\n",
              "        vertical-align: top;\n",
              "    }\n",
              "\n",
              "    .dataframe thead th {\n",
              "        text-align: right;\n",
              "    }\n",
              "</style>\n",
              "<table border=\"1\" class=\"dataframe\">\n",
              "  <thead>\n",
              "    <tr style=\"text-align: right;\">\n",
              "      <th></th>\n",
              "      <th>Unnamed: 0</th>\n",
              "      <th>Year Type</th>\n",
              "      <th>Year</th>\n",
              "      <th>Organization Group Code</th>\n",
              "      <th>Organization Group</th>\n",
              "      <th>Department Code</th>\n",
              "      <th>Department</th>\n",
              "      <th>Union Code</th>\n",
              "      <th>Union</th>\n",
              "      <th>Job Family Code</th>\n",
              "      <th>...</th>\n",
              "      <th>Employee Identifier</th>\n",
              "      <th>Salaries</th>\n",
              "      <th>Overtime</th>\n",
              "      <th>Other Salaries</th>\n",
              "      <th>Total Salary</th>\n",
              "      <th>Retirement</th>\n",
              "      <th>Health/Dental</th>\n",
              "      <th>Other Benefits</th>\n",
              "      <th>Total Benefits</th>\n",
              "      <th>Total Compensation</th>\n",
              "    </tr>\n",
              "  </thead>\n",
              "  <tbody>\n",
              "    <tr>\n",
              "      <th>0</th>\n",
              "      <td>0</td>\n",
              "      <td>Calendar</td>\n",
              "      <td>2015</td>\n",
              "      <td>2</td>\n",
              "      <td>Public Works, Transportation &amp; Commerce</td>\n",
              "      <td>WTR</td>\n",
              "      <td>PUC Water Department</td>\n",
              "      <td>21.0</td>\n",
              "      <td>Prof &amp; Tech Engineers - Miscellaneous, Local 21</td>\n",
              "      <td>2400</td>\n",
              "      <td>...</td>\n",
              "      <td>21538</td>\n",
              "      <td>82146.04</td>\n",
              "      <td>0.00</td>\n",
              "      <td>0.00</td>\n",
              "      <td>82146.04</td>\n",
              "      <td>16942.21</td>\n",
              "      <td>12340.88</td>\n",
              "      <td>6337.73</td>\n",
              "      <td>35620.82</td>\n",
              "      <td>117766.86</td>\n",
              "    </tr>\n",
              "    <tr>\n",
              "      <th>1</th>\n",
              "      <td>1</td>\n",
              "      <td>Calendar</td>\n",
              "      <td>2015</td>\n",
              "      <td>2</td>\n",
              "      <td>Public Works, Transportation &amp; Commerce</td>\n",
              "      <td>DPW</td>\n",
              "      <td>General Services Agency - Public Works</td>\n",
              "      <td>12.0</td>\n",
              "      <td>Carpet, Linoleum and Soft Tile Workers, Local 12</td>\n",
              "      <td>7300</td>\n",
              "      <td>...</td>\n",
              "      <td>5459</td>\n",
              "      <td>32165.75</td>\n",
              "      <td>973.19</td>\n",
              "      <td>848.96</td>\n",
              "      <td>33987.90</td>\n",
              "      <td>0.00</td>\n",
              "      <td>4587.51</td>\n",
              "      <td>2634.42</td>\n",
              "      <td>7221.93</td>\n",
              "      <td>41209.83</td>\n",
              "    </tr>\n",
              "  </tbody>\n",
              "</table>\n",
              "<p>2 rows × 23 columns</p>\n",
              "</div>"
            ],
            "text/plain": [
              "   Unnamed: 0 Year Type  Year  Organization Group Code  \\\n",
              "0           0  Calendar  2015                        2   \n",
              "1           1  Calendar  2015                        2   \n",
              "\n",
              "                        Organization Group Department Code  \\\n",
              "0  Public Works, Transportation & Commerce             WTR   \n",
              "1  Public Works, Transportation & Commerce             DPW   \n",
              "\n",
              "                               Department  Union Code  \\\n",
              "0                    PUC Water Department        21.0   \n",
              "1  General Services Agency - Public Works        12.0   \n",
              "\n",
              "                                              Union Job Family Code  ...  \\\n",
              "0   Prof & Tech Engineers - Miscellaneous, Local 21            2400  ...   \n",
              "1  Carpet, Linoleum and Soft Tile Workers, Local 12            7300  ...   \n",
              "\n",
              "  Employee Identifier  Salaries Overtime  Other Salaries  Total Salary  \\\n",
              "0               21538  82146.04     0.00            0.00      82146.04   \n",
              "1                5459  32165.75   973.19          848.96      33987.90   \n",
              "\n",
              "   Retirement  Health/Dental  Other Benefits  Total Benefits  \\\n",
              "0    16942.21       12340.88         6337.73        35620.82   \n",
              "1        0.00        4587.51         2634.42         7221.93   \n",
              "\n",
              "   Total Compensation  \n",
              "0           117766.86  \n",
              "1            41209.83  \n",
              "\n",
              "[2 rows x 23 columns]"
            ]
          },
          "execution_count": 22,
          "metadata": {},
          "output_type": "execute_result"
        }
      ],
      "source": [
        "sf2015.head(2)"
      ]
    },
    {
      "cell_type": "code",
      "execution_count": null,
      "metadata": {
        "id": "ulSWR4QijRMA",
        "outputId": "d4855f7b-35c7-4c5f-f79d-017c67b4588a"
      },
      "outputs": [
        {
          "data": {
            "text/plain": [
              "Index(['Unnamed: 0', 'Year Type', 'Year', 'Organization Group Code',\n",
              "       'Organization Group', 'Department Code', 'Department', 'Union Code',\n",
              "       'Union', 'Job Family Code', 'Job Family', 'Job Code', 'Job',\n",
              "       'Employee Identifier', 'Salaries', 'Overtime', 'Other Salaries',\n",
              "       'Total Salary', 'Retirement', 'Health/Dental', 'Other Benefits',\n",
              "       'Total Benefits', 'Total Compensation'],\n",
              "      dtype='object')"
            ]
          },
          "execution_count": 25,
          "metadata": {},
          "output_type": "execute_result"
        }
      ],
      "source": [
        "sf2015.columns"
      ]
    },
    {
      "cell_type": "code",
      "execution_count": null,
      "metadata": {
        "id": "ssgEqvTHjRMA",
        "outputId": "5636650e-ec06-462c-9146-f96924d91256"
      },
      "outputs": [
        {
          "data": {
            "text/plain": [
              "0                Water Qualitytech I/II\n",
              "1                    Soft Floor Coverer\n",
              "2           Health Care Billing Clerk 2\n",
              "3        Food Service Mgr Administrator\n",
              "4                 School Crossing Guard\n",
              "5                        Police Officer\n",
              "6                    Nurse Practitioner\n",
              "7                      Transit Operator\n",
              "8             Attorney (Civil/Criminal)\n",
              "9                 Emp & Training Spec 2\n",
              "10                     Transit Operator\n",
              "11         Public Svc Aide-Public Works\n",
              "12                       Police Officer\n",
              "13                   Transit Supervisor\n",
              "14       Electrical Transit System Mech\n",
              "15        Operating Engineer, Universal\n",
              "16            Clinical Nurse Specialist\n",
              "17                            Planner 3\n",
              "18                      Health Worker 2\n",
              "19                      General Laborer\n",
              "20       Electrical Transit System Mech\n",
              "21                   Eligibility Worker\n",
              "22       Custodial Assistant Supervisor\n",
              "23               Public Service Trainee\n",
              "24                       Camp Assistant\n",
              "25           IS Business Analyst-Senior\n",
              "26               Public Service Trainee\n",
              "27                     Transit Operator\n",
              "28                      General Laborer\n",
              "29                    Nursing Assistant\n",
              "                      ...              \n",
              "42959                         Carpenter\n",
              "42960                Transit Supervisor\n",
              "42961                 Nursing Assistant\n",
              "42962            Administrative Analyst\n",
              "42963                  Police Officer 2\n",
              "42964                     Nurse Midwife\n",
              "42965                  Transit Operator\n",
              "42966                  Home Health Aide\n",
              "42967            Construction Inspector\n",
              "42968                     Special Nurse\n",
              "42969                         Asst Engr\n",
              "42970            Public Service Trainee\n",
              "42971                       Manager III\n",
              "42972            Principal Mgmt Analyst\n",
              "42973                      Library Page\n",
              "42974               Automotive Mechanic\n",
              "42975                     Special Nurse\n",
              "42976                      Library Page\n",
              "42977               Senior Clerk Typist\n",
              "42978                       Firefighter\n",
              "42979                     Special Nurse\n",
              "42980    Stdntdsgn Train2/Arch/Eng/Plng\n",
              "42981                      Therapy Aide\n",
              "42982        IS Business Analyst-Senior\n",
              "42983           Sr Community Devl Spc 1\n",
              "42984                Transit Supervisor\n",
              "42985                     Special Nurse\n",
              "42986                    Police Officer\n",
              "42987               Stationary Engineer\n",
              "42988             Animal Care Attendant\n",
              "Name: Job, Length: 42989, dtype: object"
            ]
          },
          "execution_count": 26,
          "metadata": {},
          "output_type": "execute_result"
        }
      ],
      "source": [
        "sf2015['Job']"
      ]
    },
    {
      "cell_type": "markdown",
      "metadata": {
        "id": "3Asrm1FXjRMA"
      },
      "source": [
        "We are going to study the final column, Total Compensation . That's the employee's salary plus the City's contribution towards his/her retirement and benefit plans.  Financial packages in a calendar year can sometimes be hard to understand as they depend\n",
        "on the date of hire, whether the employee is changing jobs within the City, and so on. "
      ]
    },
    {
      "cell_type": "code",
      "execution_count": null,
      "metadata": {
        "id": "dTIRgZjKjRMA",
        "outputId": "be4ef0bd-85b7-42cf-b399-bb6f889446f5"
      },
      "outputs": [
        {
          "data": {
            "text/plain": [
              "0    117766.86\n",
              "1     41209.83\n",
              "2    110561.13\n",
              "3     38624.97\n",
              "4     11438.16\n",
              "Name: Total Compensation, dtype: float64"
            ]
          },
          "execution_count": 28,
          "metadata": {},
          "output_type": "execute_result"
        }
      ],
      "source": [
        "sf2015['Total Compensation'].head()"
      ]
    },
    {
      "cell_type": "code",
      "execution_count": null,
      "metadata": {
        "id": "fOKzfFjmjRMA",
        "outputId": "f41c558a-769f-4aa2-a813-504e2e174a43"
      },
      "outputs": [
        {
          "data": {
            "text/html": [
              "<div>\n",
              "<style scoped>\n",
              "    .dataframe tbody tr th:only-of-type {\n",
              "        vertical-align: middle;\n",
              "    }\n",
              "\n",
              "    .dataframe tbody tr th {\n",
              "        vertical-align: top;\n",
              "    }\n",
              "\n",
              "    .dataframe thead th {\n",
              "        text-align: right;\n",
              "    }\n",
              "</style>\n",
              "<table border=\"1\" class=\"dataframe\">\n",
              "  <thead>\n",
              "    <tr style=\"text-align: right;\">\n",
              "      <th></th>\n",
              "      <th>Unnamed: 0</th>\n",
              "      <th>Year Type</th>\n",
              "      <th>Year</th>\n",
              "      <th>Organization Group Code</th>\n",
              "      <th>Organization Group</th>\n",
              "      <th>Department Code</th>\n",
              "      <th>Department</th>\n",
              "      <th>Union Code</th>\n",
              "      <th>Union</th>\n",
              "      <th>Job Family Code</th>\n",
              "      <th>...</th>\n",
              "      <th>Employee Identifier</th>\n",
              "      <th>Salaries</th>\n",
              "      <th>Overtime</th>\n",
              "      <th>Other Salaries</th>\n",
              "      <th>Total Salary</th>\n",
              "      <th>Retirement</th>\n",
              "      <th>Health/Dental</th>\n",
              "      <th>Other Benefits</th>\n",
              "      <th>Total Benefits</th>\n",
              "      <th>Total Compensation</th>\n",
              "    </tr>\n",
              "  </thead>\n",
              "  <tbody>\n",
              "    <tr>\n",
              "      <th>27308</th>\n",
              "      <td>27308</td>\n",
              "      <td>Calendar</td>\n",
              "      <td>2015</td>\n",
              "      <td>1</td>\n",
              "      <td>Public Protection</td>\n",
              "      <td>FIR</td>\n",
              "      <td>Fire Department</td>\n",
              "      <td>798.0</td>\n",
              "      <td>Firefighters - Miscellaneous, Local 798</td>\n",
              "      <td>H000</td>\n",
              "      <td>...</td>\n",
              "      <td>43833</td>\n",
              "      <td>0.00</td>\n",
              "      <td>0.00</td>\n",
              "      <td>0.00</td>\n",
              "      <td>0.00</td>\n",
              "      <td>0.00</td>\n",
              "      <td>0.00</td>\n",
              "      <td>-423.76</td>\n",
              "      <td>-423.76</td>\n",
              "      <td>-423.76</td>\n",
              "    </tr>\n",
              "    <tr>\n",
              "      <th>15746</th>\n",
              "      <td>15746</td>\n",
              "      <td>Calendar</td>\n",
              "      <td>2015</td>\n",
              "      <td>4</td>\n",
              "      <td>Community Health</td>\n",
              "      <td>DPH</td>\n",
              "      <td>Public Health</td>\n",
              "      <td>790.0</td>\n",
              "      <td>SEIU - Miscellaneous, Local 1021</td>\n",
              "      <td>9900</td>\n",
              "      <td>...</td>\n",
              "      <td>27871</td>\n",
              "      <td>-292.40</td>\n",
              "      <td>0.00</td>\n",
              "      <td>0.00</td>\n",
              "      <td>-292.40</td>\n",
              "      <td>0.00</td>\n",
              "      <td>-95.58</td>\n",
              "      <td>-22.63</td>\n",
              "      <td>-118.21</td>\n",
              "      <td>-410.61</td>\n",
              "    </tr>\n",
              "    <tr>\n",
              "      <th>24576</th>\n",
              "      <td>24576</td>\n",
              "      <td>Calendar</td>\n",
              "      <td>2015</td>\n",
              "      <td>1</td>\n",
              "      <td>Public Protection</td>\n",
              "      <td>JUV</td>\n",
              "      <td>Juvenile Probation</td>\n",
              "      <td>790.0</td>\n",
              "      <td>SEIU - Miscellaneous, Local 1021</td>\n",
              "      <td>8300</td>\n",
              "      <td>...</td>\n",
              "      <td>10517</td>\n",
              "      <td>0.00</td>\n",
              "      <td>0.00</td>\n",
              "      <td>0.00</td>\n",
              "      <td>0.00</td>\n",
              "      <td>0.00</td>\n",
              "      <td>0.00</td>\n",
              "      <td>-159.12</td>\n",
              "      <td>-159.12</td>\n",
              "      <td>-159.12</td>\n",
              "    </tr>\n",
              "    <tr>\n",
              "      <th>42982</th>\n",
              "      <td>42982</td>\n",
              "      <td>Calendar</td>\n",
              "      <td>2015</td>\n",
              "      <td>6</td>\n",
              "      <td>General Administration &amp; Finance</td>\n",
              "      <td>CPC</td>\n",
              "      <td>City Planning</td>\n",
              "      <td>21.0</td>\n",
              "      <td>Prof &amp; Tech Engineers - Miscellaneous, Local 21</td>\n",
              "      <td>1000</td>\n",
              "      <td>...</td>\n",
              "      <td>18961</td>\n",
              "      <td>0.00</td>\n",
              "      <td>0.00</td>\n",
              "      <td>0.00</td>\n",
              "      <td>0.00</td>\n",
              "      <td>0.00</td>\n",
              "      <td>0.00</td>\n",
              "      <td>-26.53</td>\n",
              "      <td>-26.53</td>\n",
              "      <td>-26.53</td>\n",
              "    </tr>\n",
              "    <tr>\n",
              "      <th>23310</th>\n",
              "      <td>23310</td>\n",
              "      <td>Calendar</td>\n",
              "      <td>2015</td>\n",
              "      <td>6</td>\n",
              "      <td>General Administration &amp; Finance</td>\n",
              "      <td>CPC</td>\n",
              "      <td>City Planning</td>\n",
              "      <td>21.0</td>\n",
              "      <td>Prof &amp; Tech Engineers - Miscellaneous, Local 21</td>\n",
              "      <td>5200</td>\n",
              "      <td>...</td>\n",
              "      <td>19387</td>\n",
              "      <td>0.00</td>\n",
              "      <td>0.00</td>\n",
              "      <td>0.00</td>\n",
              "      <td>0.00</td>\n",
              "      <td>0.00</td>\n",
              "      <td>0.00</td>\n",
              "      <td>-9.51</td>\n",
              "      <td>-9.51</td>\n",
              "      <td>-9.51</td>\n",
              "    </tr>\n",
              "    <tr>\n",
              "      <th>...</th>\n",
              "      <td>...</td>\n",
              "      <td>...</td>\n",
              "      <td>...</td>\n",
              "      <td>...</td>\n",
              "      <td>...</td>\n",
              "      <td>...</td>\n",
              "      <td>...</td>\n",
              "      <td>...</td>\n",
              "      <td>...</td>\n",
              "      <td>...</td>\n",
              "      <td>...</td>\n",
              "      <td>...</td>\n",
              "      <td>...</td>\n",
              "      <td>...</td>\n",
              "      <td>...</td>\n",
              "      <td>...</td>\n",
              "      <td>...</td>\n",
              "      <td>...</td>\n",
              "      <td>...</td>\n",
              "      <td>...</td>\n",
              "      <td>...</td>\n",
              "    </tr>\n",
              "    <tr>\n",
              "      <th>5171</th>\n",
              "      <td>5171</td>\n",
              "      <td>Calendar</td>\n",
              "      <td>2015</td>\n",
              "      <td>4</td>\n",
              "      <td>Community Health</td>\n",
              "      <td>DPH</td>\n",
              "      <td>Public Health</td>\n",
              "      <td>351.0</td>\n",
              "      <td>Municipal Executive Association - Miscellaneous</td>\n",
              "      <td>0900</td>\n",
              "      <td>...</td>\n",
              "      <td>1523</td>\n",
              "      <td>256098.01</td>\n",
              "      <td>0.00</td>\n",
              "      <td>82292.31</td>\n",
              "      <td>338390.32</td>\n",
              "      <td>51977.53</td>\n",
              "      <td>11468.77</td>\n",
              "      <td>20963.32</td>\n",
              "      <td>84409.62</td>\n",
              "      <td>422799.94</td>\n",
              "    </tr>\n",
              "    <tr>\n",
              "      <th>17805</th>\n",
              "      <td>17805</td>\n",
              "      <td>Calendar</td>\n",
              "      <td>2015</td>\n",
              "      <td>2</td>\n",
              "      <td>Public Works, Transportation &amp; Commerce</td>\n",
              "      <td>AIR</td>\n",
              "      <td>Airport Commission</td>\n",
              "      <td>351.0</td>\n",
              "      <td>Municipal Executive Association - Miscellaneous</td>\n",
              "      <td>0900</td>\n",
              "      <td>...</td>\n",
              "      <td>17356</td>\n",
              "      <td>326764.01</td>\n",
              "      <td>0.00</td>\n",
              "      <td>0.00</td>\n",
              "      <td>326764.01</td>\n",
              "      <td>65806.33</td>\n",
              "      <td>12424.50</td>\n",
              "      <td>21691.23</td>\n",
              "      <td>99922.06</td>\n",
              "      <td>426686.07</td>\n",
              "    </tr>\n",
              "    <tr>\n",
              "      <th>499</th>\n",
              "      <td>499</td>\n",
              "      <td>Calendar</td>\n",
              "      <td>2015</td>\n",
              "      <td>6</td>\n",
              "      <td>General Administration &amp; Finance</td>\n",
              "      <td>ADM</td>\n",
              "      <td>General Services Agency - City Admin</td>\n",
              "      <td>164.0</td>\n",
              "      <td>Physicians and Dentists - Miscellaneous</td>\n",
              "      <td>2500</td>\n",
              "      <td>...</td>\n",
              "      <td>13746</td>\n",
              "      <td>279311.03</td>\n",
              "      <td>9046.92</td>\n",
              "      <td>56742.56</td>\n",
              "      <td>345100.51</td>\n",
              "      <td>56211.61</td>\n",
              "      <td>12424.50</td>\n",
              "      <td>13482.66</td>\n",
              "      <td>82118.77</td>\n",
              "      <td>427219.28</td>\n",
              "    </tr>\n",
              "    <tr>\n",
              "      <th>13194</th>\n",
              "      <td>13194</td>\n",
              "      <td>Calendar</td>\n",
              "      <td>2015</td>\n",
              "      <td>6</td>\n",
              "      <td>General Administration &amp; Finance</td>\n",
              "      <td>ADM</td>\n",
              "      <td>General Services Agency - City Admin</td>\n",
              "      <td>164.0</td>\n",
              "      <td>Physicians and Dentists - Miscellaneous</td>\n",
              "      <td>2500</td>\n",
              "      <td>...</td>\n",
              "      <td>1016</td>\n",
              "      <td>279311.10</td>\n",
              "      <td>3829.36</td>\n",
              "      <td>114433.58</td>\n",
              "      <td>397574.04</td>\n",
              "      <td>56211.64</td>\n",
              "      <td>12424.50</td>\n",
              "      <td>14299.10</td>\n",
              "      <td>82935.24</td>\n",
              "      <td>480509.28</td>\n",
              "    </tr>\n",
              "    <tr>\n",
              "      <th>19177</th>\n",
              "      <td>19177</td>\n",
              "      <td>Calendar</td>\n",
              "      <td>2015</td>\n",
              "      <td>6</td>\n",
              "      <td>General Administration &amp; Finance</td>\n",
              "      <td>RET</td>\n",
              "      <td>Retirement System</td>\n",
              "      <td>351.0</td>\n",
              "      <td>Municipal Executive Association - Miscellaneous</td>\n",
              "      <td>1100</td>\n",
              "      <td>...</td>\n",
              "      <td>46881</td>\n",
              "      <td>507831.60</td>\n",
              "      <td>0.00</td>\n",
              "      <td>0.00</td>\n",
              "      <td>507831.60</td>\n",
              "      <td>105052.98</td>\n",
              "      <td>12424.50</td>\n",
              "      <td>23566.16</td>\n",
              "      <td>141043.64</td>\n",
              "      <td>648875.24</td>\n",
              "    </tr>\n",
              "  </tbody>\n",
              "</table>\n",
              "<p>42989 rows × 23 columns</p>\n",
              "</div>"
            ],
            "text/plain": [
              "       Unnamed: 0 Year Type  Year  Organization Group Code  \\\n",
              "27308       27308  Calendar  2015                        1   \n",
              "15746       15746  Calendar  2015                        4   \n",
              "24576       24576  Calendar  2015                        1   \n",
              "42982       42982  Calendar  2015                        6   \n",
              "23310       23310  Calendar  2015                        6   \n",
              "...           ...       ...   ...                      ...   \n",
              "5171         5171  Calendar  2015                        4   \n",
              "17805       17805  Calendar  2015                        2   \n",
              "499           499  Calendar  2015                        6   \n",
              "13194       13194  Calendar  2015                        6   \n",
              "19177       19177  Calendar  2015                        6   \n",
              "\n",
              "                            Organization Group Department Code  \\\n",
              "27308                        Public Protection             FIR   \n",
              "15746                         Community Health             DPH   \n",
              "24576                        Public Protection             JUV   \n",
              "42982         General Administration & Finance             CPC   \n",
              "23310         General Administration & Finance             CPC   \n",
              "...                                        ...             ...   \n",
              "5171                          Community Health             DPH   \n",
              "17805  Public Works, Transportation & Commerce             AIR   \n",
              "499           General Administration & Finance             ADM   \n",
              "13194         General Administration & Finance             ADM   \n",
              "19177         General Administration & Finance             RET   \n",
              "\n",
              "                                 Department  Union Code  \\\n",
              "27308                       Fire Department       798.0   \n",
              "15746                         Public Health       790.0   \n",
              "24576                    Juvenile Probation       790.0   \n",
              "42982                         City Planning        21.0   \n",
              "23310                         City Planning        21.0   \n",
              "...                                     ...         ...   \n",
              "5171                          Public Health       351.0   \n",
              "17805                    Airport Commission       351.0   \n",
              "499    General Services Agency - City Admin       164.0   \n",
              "13194  General Services Agency - City Admin       164.0   \n",
              "19177                     Retirement System       351.0   \n",
              "\n",
              "                                                 Union Job Family Code  ...  \\\n",
              "27308          Firefighters - Miscellaneous, Local 798            H000  ...   \n",
              "15746                 SEIU - Miscellaneous, Local 1021            9900  ...   \n",
              "24576                 SEIU - Miscellaneous, Local 1021            8300  ...   \n",
              "42982  Prof & Tech Engineers - Miscellaneous, Local 21            1000  ...   \n",
              "23310  Prof & Tech Engineers - Miscellaneous, Local 21            5200  ...   \n",
              "...                                                ...             ...  ...   \n",
              "5171   Municipal Executive Association - Miscellaneous            0900  ...   \n",
              "17805  Municipal Executive Association - Miscellaneous            0900  ...   \n",
              "499            Physicians and Dentists - Miscellaneous            2500  ...   \n",
              "13194          Physicians and Dentists - Miscellaneous            2500  ...   \n",
              "19177  Municipal Executive Association - Miscellaneous            1100  ...   \n",
              "\n",
              "      Employee Identifier   Salaries Overtime  Other Salaries  Total Salary  \\\n",
              "27308               43833       0.00     0.00            0.00          0.00   \n",
              "15746               27871    -292.40     0.00            0.00       -292.40   \n",
              "24576               10517       0.00     0.00            0.00          0.00   \n",
              "42982               18961       0.00     0.00            0.00          0.00   \n",
              "23310               19387       0.00     0.00            0.00          0.00   \n",
              "...                   ...        ...      ...             ...           ...   \n",
              "5171                 1523  256098.01     0.00        82292.31     338390.32   \n",
              "17805               17356  326764.01     0.00            0.00     326764.01   \n",
              "499                 13746  279311.03  9046.92        56742.56     345100.51   \n",
              "13194                1016  279311.10  3829.36       114433.58     397574.04   \n",
              "19177               46881  507831.60     0.00            0.00     507831.60   \n",
              "\n",
              "       Retirement  Health/Dental  Other Benefits  Total Benefits  \\\n",
              "27308        0.00           0.00         -423.76         -423.76   \n",
              "15746        0.00         -95.58          -22.63         -118.21   \n",
              "24576        0.00           0.00         -159.12         -159.12   \n",
              "42982        0.00           0.00          -26.53          -26.53   \n",
              "23310        0.00           0.00           -9.51           -9.51   \n",
              "...           ...            ...             ...             ...   \n",
              "5171     51977.53       11468.77        20963.32        84409.62   \n",
              "17805    65806.33       12424.50        21691.23        99922.06   \n",
              "499      56211.61       12424.50        13482.66        82118.77   \n",
              "13194    56211.64       12424.50        14299.10        82935.24   \n",
              "19177   105052.98       12424.50        23566.16       141043.64   \n",
              "\n",
              "       Total Compensation  \n",
              "27308             -423.76  \n",
              "15746             -410.61  \n",
              "24576             -159.12  \n",
              "42982              -26.53  \n",
              "23310               -9.51  \n",
              "...                   ...  \n",
              "5171            422799.94  \n",
              "17805           426686.07  \n",
              "499             427219.28  \n",
              "13194           480509.28  \n",
              "19177           648875.24  \n",
              "\n",
              "[42989 rows x 23 columns]"
            ]
          },
          "execution_count": 24,
          "metadata": {},
          "output_type": "execute_result"
        }
      ],
      "source": [
        "sf2015.sort_values(by ='Total Compensation')"
      ]
    },
    {
      "cell_type": "code",
      "execution_count": null,
      "metadata": {
        "id": "38kFbmWCjRMB"
      },
      "outputs": [],
      "source": [
        "#consider TC 10000\n",
        "sf = sf2015[sf2015['Salaries'] >10000]"
      ]
    },
    {
      "cell_type": "code",
      "execution_count": null,
      "metadata": {
        "id": "Dq0dvazMjRMB",
        "outputId": "8bb34f20-5c7c-469d-d06e-63b55f9a1f34"
      },
      "outputs": [
        {
          "data": {
            "text/plain": [
              "Index(['Unnamed: 0', 'Year Type', 'Year', 'Organization Group Code',\n",
              "       'Organization Group', 'Department Code', 'Department', 'Union Code',\n",
              "       'Union', 'Job Family Code', 'Job Family', 'Job Code', 'Job',\n",
              "       'Employee Identifier', 'Salaries', 'Overtime', 'Other Salaries',\n",
              "       'Total Salary', 'Retirement', 'Health/Dental', 'Other Benefits',\n",
              "       'Total Benefits', 'Total Compensation'],\n",
              "      dtype='object')"
            ]
          },
          "execution_count": 37,
          "metadata": {},
          "output_type": "execute_result"
        }
      ],
      "source": [
        "sf.columns"
      ]
    },
    {
      "cell_type": "code",
      "execution_count": null,
      "metadata": {
        "id": "TdBIUXRdjRMB",
        "outputId": "e2947ca7-4aa7-43fd-aa57-99558897698d"
      },
      "outputs": [
        {
          "data": {
            "text/plain": [
              "(36569, 23)"
            ]
          },
          "execution_count": 38,
          "metadata": {},
          "output_type": "execute_result"
        }
      ],
      "source": [
        "sf.shape"
      ]
    },
    {
      "cell_type": "code",
      "execution_count": null,
      "metadata": {
        "id": "1vXyjd3QjRMB"
      },
      "outputs": [],
      "source": [
        "sf_comp = sf['Total Compensation']"
      ]
    },
    {
      "cell_type": "code",
      "execution_count": null,
      "metadata": {
        "id": "PmK7uBRMjRMB",
        "outputId": "d23077c4-48bb-420a-a9c3-6a6f531a601f"
      },
      "outputs": [
        {
          "data": {
            "text/plain": [
              "<matplotlib.axes._subplots.AxesSubplot at 0xb485b70>"
            ]
          },
          "execution_count": 40,
          "metadata": {},
          "output_type": "execute_result"
        },
        {
          "data": {
            "image/png": "[encoded data removed]",
            "text/plain": [
              "<Figure size 432x288 with 1 Axes>"
            ]
          },
          "metadata": {
            "needs_background": "light"
          },
          "output_type": "display_data"
        }
      ],
      "source": [
        "sf_comp.hist()"
      ]
    },
    {
      "cell_type": "code",
      "execution_count": null,
      "metadata": {
        "id": "P4_G1Gw0jRMB",
        "outputId": "f704da44-6361-423d-9033-d009972dab13"
      },
      "outputs": [
        {
          "data": {
            "text/plain": [
              "pandas.core.series.Series"
            ]
          },
          "execution_count": 41,
          "metadata": {},
          "output_type": "execute_result"
        }
      ],
      "source": [
        "type(sf_comp)"
      ]
    },
    {
      "cell_type": "markdown",
      "metadata": {
        "id": "4KyCE9enjRMB"
      },
      "source": [
        "While most of the values are below $300,000, a few are quite a bit higher. For example, the total compensation of the Chief Investment Officer was almost $650,000. That is why the horizontal axis stretches to $700,000."
      ]
    },
    {
      "cell_type": "code",
      "execution_count": null,
      "metadata": {
        "id": "OA5nFZCsjRMB"
      },
      "outputs": [],
      "source": [
        "#sf_comp.sort_values(ascending = False)"
      ]
    },
    {
      "cell_type": "markdown",
      "metadata": {
        "id": "JUQtvFlkjRMC"
      },
      "source": [
        "Now let the parameter be the median of the total compensations.Since we have the luxury of having all of the data from the population, we can simply calcuate the parameter:"
      ]
    },
    {
      "cell_type": "code",
      "execution_count": null,
      "metadata": {
        "id": "wwv5_5GsjRMC",
        "outputId": "ba9a00db-d153-4b01-e79b-79939f6a20cf"
      },
      "outputs": [
        {
          "data": {
            "text/plain": [
              "110305.79"
            ]
          },
          "execution_count": 44,
          "metadata": {},
          "output_type": "execute_result"
        }
      ],
      "source": [
        "sf_comp.quantile(0.5)"
      ]
    },
    {
      "cell_type": "markdown",
      "metadata": {
        "id": "AgfU6oqGjRMC"
      },
      "source": [
        "From a practical perspective, there is no reason for us to draw a sample to estimate this\n",
        "parameter since we simply know its value. But in this section we are going to pretend we\n",
        "don't know the value, and see how well we can estimate it based on a random sample.\n",
        "In later sections, we will come down to earth and work in situations where the parameter is\n",
        "unknown. For now, we are all-knowing."
      ]
    },
    {
      "cell_type": "markdown",
      "metadata": {
        "id": "WyCDEkg-jRMC"
      },
      "source": [
        "#### A Random Sample and an Estimate"
      ]
    },
    {
      "cell_type": "markdown",
      "metadata": {
        "id": "Z9CxwP8EjRMC"
      },
      "source": [
        "Let us draw a sample of 500 employees at random without replacement, and let the median total compensation of the sampled employees serve as our estimate of the parameter."
      ]
    },
    {
      "cell_type": "code",
      "execution_count": null,
      "metadata": {
        "id": "9zugL_Z4jRMC"
      },
      "outputs": [],
      "source": [
        "#sf_comp.sample(500)"
      ]
    },
    {
      "cell_type": "code",
      "execution_count": null,
      "metadata": {
        "id": "RAmdSVdCjRMC"
      },
      "outputs": [],
      "source": [
        "original_sample = sf_comp.sample(500)"
      ]
    },
    {
      "cell_type": "code",
      "execution_count": null,
      "metadata": {
        "id": "FYyaypvBjRMC",
        "outputId": "2d68a8ba-b98c-4301-b16a-a19dd30f9c98"
      },
      "outputs": [
        {
          "data": {
            "text/plain": [
              "20306     51198.50\n",
              "18697    159325.72\n",
              "Name: Total Compensation, dtype: float64"
            ]
          },
          "execution_count": 48,
          "metadata": {},
          "output_type": "execute_result"
        }
      ],
      "source": [
        "original_sample.head(2)"
      ]
    },
    {
      "cell_type": "code",
      "execution_count": null,
      "metadata": {
        "id": "WUNCnRvHjRMC",
        "outputId": "96047dc5-dbc7-4d33-9b04-69b0773fe42f"
      },
      "outputs": [
        {
          "data": {
            "text/plain": [
              "<matplotlib.axes._subplots.AxesSubplot at 0xbb6d128>"
            ]
          },
          "execution_count": 49,
          "metadata": {},
          "output_type": "execute_result"
        },
        {
          "data": {
            "image/png": "[encoded data removed]",
            "text/plain": [
              "<Figure size 432x288 with 1 Axes>"
            ]
          },
          "metadata": {
            "needs_background": "light"
          },
          "output_type": "display_data"
        }
      ],
      "source": [
        "original_sample.hist()"
      ]
    },
    {
      "cell_type": "code",
      "execution_count": null,
      "metadata": {
        "id": "Fs1HPmjCjRMD",
        "outputId": "a3f94753-fbf0-476e-8d40-de4f70c34e1c"
      },
      "outputs": [
        {
          "data": {
            "text/plain": [
              "107748.14000000001"
            ]
          },
          "execution_count": 51,
          "metadata": {},
          "output_type": "execute_result"
        }
      ],
      "source": [
        "pp_med = original_sample.quantile(0.50)\n",
        "pp_med"
      ]
    },
    {
      "cell_type": "markdown",
      "metadata": {
        "id": "I-lkfi1YjRMD"
      },
      "source": [
        "Note: Our population median which we are trying to estimate is 110305.79"
      ]
    },
    {
      "cell_type": "code",
      "execution_count": null,
      "metadata": {
        "id": "ys6MNcv6jRMD",
        "outputId": "e5f48c27-dccc-41e0-a092-fda1e01ba54a"
      },
      "outputs": [
        {
          "data": {
            "image/png": "[encoded data removed]",
            "text/plain": [
              "<Figure size 432x288 with 1 Axes>"
            ]
          },
          "metadata": {
            "needs_background": "light"
          },
          "output_type": "display_data"
        }
      ],
      "source": [
        "original_sample.hist()\n",
        "plt.scatter(pp_med, 0, color='red', s=30);"
      ]
    },
    {
      "cell_type": "markdown",
      "metadata": {
        "id": "Z7QaSW-zjRMD"
      },
      "source": [
        "The sample size is large. By the law of averages, the distribution of the sample resemblesthat of the population, and consequently the sample median is not very far from the population median (though of course it is not exactly the same, it was 110305.79)."
      ]
    },
    {
      "cell_type": "markdown",
      "metadata": {
        "id": "qriw9a26jRMD"
      },
      "source": [
        "So now we have one estimate of the parameter. But had the sample come out differently, the\n",
        "estimate would have had a different value. We would like to be able to quantify the amount\n",
        "by which the estimate could vary across samples. That measure of variability will help us\n",
        "measure how accurately we can estimate the parameter.\n",
        "To see how different the estimate would be if the sample had come out differently, we could\n",
        "just draw another sample from the population, but that would be cheating. We are trying to\n",
        "mimic real life, in which we won't have all the population data at hand.\n",
        "Somehow, we have to get another random sample without sampling from the population."
      ]
    },
    {
      "cell_type": "markdown",
      "metadata": {
        "id": "p0vdLzJOjRMD"
      },
      "source": [
        "#### The Bootstrap: Resampling from the Sample"
      ]
    },
    {
      "cell_type": "markdown",
      "metadata": {
        "id": "hwY9NNt5jRMD"
      },
      "source": [
        "What we do have is a large random sample from the population. As we know, a large\n",
        "random sample is likely to resemeble the population from which it is drawn. This observation\n",
        "allows data scientists to lift themselves up by their own bootstraps: \n",
        "the sampling procedure can be replicated by sampling from the sample."
      ]
    },
    {
      "cell_type": "markdown",
      "metadata": {
        "id": "IZWl_hfFjRMD"
      },
      "source": [
        "Here are the steps of the bootstrap method for generating another random sample that resembles the population:"
      ]
    },
    {
      "cell_type": "markdown",
      "metadata": {
        "id": "YcCWrwMrjRMD"
      },
      "source": [
        "##### Treat the original sample as if it were the population.\n",
        "##### Draw from the sample, at random with replacement, the same number of times as the original sample size."
      ]
    },
    {
      "cell_type": "markdown",
      "metadata": {
        "id": "2eoO_-KbjRME"
      },
      "source": [
        "It is important to resample the same number of times as the original sample size. The\n",
        "reason is that the variability of an estimate depends on the size of the sample. Since our\n",
        "original sample consisted of 500 employees, our sample median was based on 500 values.\n",
        "To see how different the sample could have been, we have to compare it to the median of\n",
        "other samples of size 500."
      ]
    },
    {
      "cell_type": "markdown",
      "metadata": {
        "id": "QLhjIDpyjRME"
      },
      "source": [
        "If we drew 500 times at random without replacement from our sample of size 500, we would\n",
        "just get the same sample back. By drawing with replacement, we create the possibility for\n",
        "the new samples to be different from the original, because some employees might be drawn\n",
        "more than once and others not at all."
      ]
    },
    {
      "cell_type": "markdown",
      "metadata": {
        "id": "ppySxGDojRME"
      },
      "source": [
        "Why is this a good idea? By the law of averages, the distribution of the original sample is\n",
        "likely to resemble the population, and the distributions of all the \"resamples\" are likely to\n",
        "resemble the original sample. So the distributions of all the resamples are likely to resemble\n",
        "the population as well."
      ]
    },
    {
      "cell_type": "code",
      "execution_count": null,
      "metadata": {
        "id": "cZpzKI7_jRME",
        "outputId": "1f69c2db-a28b-49b2-ee7b-c30c8c4fe9a0"
      },
      "outputs": [
        {
          "data": {
            "text/plain": [
              "20644    168903.76\n",
              "21034    119103.48\n",
              "22010     16538.86\n",
              "22102    154894.58\n",
              "1133     174626.08\n",
              "           ...    \n",
              "26746    192258.60\n",
              "10930    150016.89\n",
              "41354     18781.85\n",
              "9557     251121.31\n",
              "7221      87544.03\n",
              "Name: Total Compensation, Length: 500, dtype: float64"
            ]
          },
          "execution_count": 294,
          "metadata": {},
          "output_type": "execute_result"
        }
      ],
      "source": [
        " original_sample"
      ]
    },
    {
      "cell_type": "code",
      "execution_count": null,
      "metadata": {
        "id": "bCvb1V05jRME"
      },
      "outputs": [],
      "source": [
        "resample = original_sample.sample(500, replace=True)"
      ]
    },
    {
      "cell_type": "code",
      "execution_count": null,
      "metadata": {
        "id": "paSDtExZjRME",
        "outputId": "973a7b14-0d3f-4d8b-bda8-aa7de62b69df"
      },
      "outputs": [
        {
          "name": "stdout",
          "output_type": "stream",
          "text": [
            "107971.12\n"
          ]
        }
      ],
      "source": [
        "print(resample.quantile(0.50))"
      ]
    },
    {
      "cell_type": "code",
      "execution_count": null,
      "metadata": {
        "id": "DAHYLrRhjRME"
      },
      "outputs": [],
      "source": [
        "#print(resample)"
      ]
    },
    {
      "cell_type": "code",
      "execution_count": null,
      "metadata": {
        "id": "fpDNfRnvjRME",
        "outputId": "b1d2a4ea-0621-44e7-db78-6eb3e46e2587"
      },
      "outputs": [
        {
          "data": {
            "text/plain": [
              "<matplotlib.axes._subplots.AxesSubplot at 0xbc234a8>"
            ]
          },
          "execution_count": 56,
          "metadata": {},
          "output_type": "execute_result"
        },
        {
          "data": {
            "image/png": "[encoded data removed]",
            "text/plain": [
              "<Figure size 432x288 with 1 Axes>"
            ]
          },
          "metadata": {
            "needs_background": "light"
          },
          "output_type": "display_data"
        }
      ],
      "source": [
        "resample.hist()"
      ]
    },
    {
      "cell_type": "code",
      "execution_count": null,
      "metadata": {
        "id": "rVxfuhsSjRMF",
        "outputId": "fddd9212-ef2a-4fea-f820-41d013b05d22"
      },
      "outputs": [
        {
          "data": {
            "text/plain": [
              "107971.12"
            ]
          },
          "execution_count": 57,
          "metadata": {},
          "output_type": "execute_result"
        }
      ],
      "source": [
        "resample.quantile(0.50)"
      ]
    },
    {
      "cell_type": "markdown",
      "metadata": {
        "id": "fq8CCj-UjRMF"
      },
      "source": [
        "By resampling, we have another estimate of the population median. By resampling again\n",
        "and again, we will get many such estimates, and hence an empirical distribution of the\n",
        "estimates"
      ]
    },
    {
      "cell_type": "markdown",
      "metadata": {
        "id": "GcXefa7YjRMF"
      },
      "source": [
        "#### Bootstrap Empirical Distribution of the Sample Median"
      ]
    },
    {
      "cell_type": "markdown",
      "metadata": {
        "id": "E1Q1zzJGjRMF"
      },
      "source": [
        "Let us define a function bootstrap_median that takes our original sample, the label of the\n",
        "column containing the variable, and the number of bootstrap samples we want to take, and\n",
        "returns an array of the corresponding resampled medians.\n",
        "\n",
        "Each time we resample and find the median, we replicate the bootstrap process. So the\n",
        "number of bootstrap samples will be called the number of replications."
      ]
    },
    {
      "cell_type": "code",
      "execution_count": null,
      "metadata": {
        "id": "J963snf6jRMF"
      },
      "outputs": [],
      "source": [
        "def bootstrap_median(original_sample, label, replications):\n",
        "\"\"\"Returns an array of bootstrapped sample medians:\n",
        "original_sample: table containing the original sample\n",
        "label: label of column containing the variable\n",
        "replications: number of bootstrap samples\n",
        "\"\"\""
      ]
    },
    {
      "cell_type": "code",
      "execution_count": null,
      "metadata": {
        "id": "Hcd7ipqCjRMF"
      },
      "outputs": [],
      "source": [
        "import numpy as np"
      ]
    },
    {
      "cell_type": "code",
      "execution_count": null,
      "metadata": {
        "id": "LCMU_eoHjRMF"
      },
      "outputs": [],
      "source": [
        "label = 'Total Compensation'"
      ]
    },
    {
      "cell_type": "code",
      "execution_count": null,
      "metadata": {
        "id": "NVW6ijQcjRMF",
        "outputId": "7411e7ac-836a-48b7-eede-8d1d3fa34316"
      },
      "outputs": [
        {
          "data": {
            "text/plain": [
              "106454.18"
            ]
          },
          "execution_count": 58,
          "metadata": {},
          "output_type": "execute_result"
        }
      ],
      "source": [
        "pp = original_sample.sample(500, replace = True)\n",
        "quant = pp.quantile(0.50)\n",
        "medians =  quant \n",
        "medians # run this cell multiple times and observe"
      ]
    },
    {
      "cell_type": "code",
      "execution_count": null,
      "metadata": {
        "id": "F2qNoCIyjRMG"
      },
      "outputs": [],
      "source": [
        "def bootstrap_median(originalSample, replications):\n",
        "    sample_medians = []\n",
        "    print(replications)\n",
        "    import numpy as np\n",
        "    import array\n",
        "    sample_medians = np.zeros(replications)\n",
        "    for i in np.arange(replications):\n",
        "        sampled_scores = original_sample.sample(500, replace = True)\n",
        "        pp = sampled_scores.quantile(0.50)\n",
        "        print(pp)\n",
        "        sample_medians[i] = pp\n",
        "    print(sample_medians)\n",
        "    return(sample_medians)"
      ]
    },
    {
      "cell_type": "code",
      "execution_count": null,
      "metadata": {
        "id": "i3Pj2wrqjRMG"
      },
      "outputs": [],
      "source": [
        "#boot_med = bootstrap_median(original_sample,5000)"
      ]
    },
    {
      "cell_type": "code",
      "execution_count": null,
      "metadata": {
        "id": "rDESPXCZjRMG",
        "outputId": "821a3464-daf5-48ed-f013-18e6b7f1e9a0"
      },
      "outputs": [
        {
          "data": {
            "text/html": [
              "<div>\n",
              "<style scoped>\n",
              "    .dataframe tbody tr th:only-of-type {\n",
              "        vertical-align: middle;\n",
              "    }\n",
              "\n",
              "    .dataframe tbody tr th {\n",
              "        vertical-align: top;\n",
              "    }\n",
              "\n",
              "    .dataframe thead th {\n",
              "        text-align: right;\n",
              "    }\n",
              "</style>\n",
              "<table border=\"1\" class=\"dataframe\">\n",
              "  <thead>\n",
              "    <tr style=\"text-align: right;\">\n",
              "      <th></th>\n",
              "      <th>0</th>\n",
              "    </tr>\n",
              "  </thead>\n",
              "  <tbody>\n",
              "    <tr>\n",
              "      <th>0</th>\n",
              "      <td>108955.46</td>\n",
              "    </tr>\n",
              "    <tr>\n",
              "      <th>1</th>\n",
              "      <td>112248.54</td>\n",
              "    </tr>\n",
              "    <tr>\n",
              "      <th>2</th>\n",
              "      <td>109748.28</td>\n",
              "    </tr>\n",
              "  </tbody>\n",
              "</table>\n",
              "</div>"
            ],
            "text/plain": [
              "           0\n",
              "0  108955.46\n",
              "1  112248.54\n",
              "2  109748.28"
            ]
          },
          "execution_count": 64,
          "metadata": {},
          "output_type": "execute_result"
        }
      ],
      "source": [
        "boot_df = pd.DataFrame(boot_med)\n",
        "boot_df.head(3)"
      ]
    },
    {
      "cell_type": "code",
      "execution_count": null,
      "metadata": {
        "id": "B6kG1uzHjRMG"
      },
      "outputs": [],
      "source": [
        "import matplotlib.pyplot as plt"
      ]
    },
    {
      "cell_type": "code",
      "execution_count": null,
      "metadata": {
        "id": "07kw6fUQjRMG"
      },
      "outputs": [],
      "source": [
        "%matplotlib inline"
      ]
    },
    {
      "cell_type": "code",
      "execution_count": null,
      "metadata": {
        "id": "uh_8dP60jRMG"
      },
      "outputs": [],
      "source": [
        "median_bins=np.arange(110000, 120000, 250)\n",
        "#resampled_medians.hist(bins = median_bins)"
      ]
    },
    {
      "cell_type": "code",
      "execution_count": null,
      "metadata": {
        "id": "BicBzy0qjRMG",
        "outputId": "c653c298-1a28-4372-9d0b-b38281833529"
      },
      "outputs": [
        {
          "data": {
            "text/plain": [
              "112090.26000000001"
            ]
          },
          "execution_count": 377,
          "metadata": {},
          "output_type": "execute_result"
        }
      ],
      "source": [
        "pp_med"
      ]
    },
    {
      "cell_type": "code",
      "execution_count": null,
      "metadata": {
        "id": "wmzvP3kbjRMG",
        "outputId": "0f332676-fc3b-4f8c-ec95-b78f4fa55290"
      },
      "outputs": [
        {
          "data": {
            "image/png": "[encoded data removed]",
            "text/plain": [
              "<Figure size 432x288 with 1 Axes>"
            ]
          },
          "metadata": {
            "needs_background": "light"
          },
          "output_type": "display_data"
        }
      ],
      "source": [
        "boot_df.hist();\n",
        "plt.scatter(pp_med, 0, color='red', s=30);"
      ]
    },
    {
      "cell_type": "markdown",
      "metadata": {
        "id": "U1MET2t8jRMH"
      },
      "source": [
        "It is important to remember that the red dot is fixed: it is $110,305.79, the population median.\n",
        "The empirical histogram is the result of random draws, and will be situated randomly relative to the red dot.\n",
        "Remember also that the point of all these computations is to estimate the population median, which is the red dot. \n",
        "Our estimates are all the randomly generated sampled medians whose histogram you see above. "
      ]
    }
  ],
  "metadata": {
    "kernelspec": {
      "display_name": "Python 3",
      "language": "python",
      "name": "python3"
    },
    "language_info": {
      "codemirror_mode": {
        "name": "ipython",
        "version": 3
      },
      "file_extension": ".py",
      "mimetype": "text/x-python",
      "name": "python",
      "nbconvert_exporter": "python",
      "pygments_lexer": "ipython3",
      "version": "3.7.3"
    },
    "colab": {
      "provenance": []
    }
  },
  "nbformat": 4,
  "nbformat_minor": 0
}