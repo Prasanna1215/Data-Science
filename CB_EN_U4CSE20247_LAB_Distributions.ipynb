{
  "nbformat": 4,
  "nbformat_minor": 0,
  "metadata": {
    "colab": {
      "provenance": []
    },
    "kernelspec": {
      "name": "python3",
      "display_name": "Python 3"
    },
    "language_info": {
      "name": "python"
    }
  },
  "cells": [
    {
      "cell_type": "code",
      "execution_count": null,
      "metadata": {
        "id": "ji_699vNoOR3"
      },
      "outputs": [],
      "source": [
        "import numpy as np"
      ]
    },
    {
      "cell_type": "markdown",
      "source": [
        "Binomial"
      ],
      "metadata": {
        "id": "ExLA_ai3rTzq"
      }
    },
    {
      "cell_type": "code",
      "source": [
        "#exact 4 correct answer out of 12 questions given that each question has 5 option and one of them is correct\n",
        "sum(np.random.binomial(12,0.2,20000)==4)/20000"
      ],
      "metadata": {
        "colab": {
          "base_uri": "https://localhost:8080/"
        },
        "id": "aN-JCYSzoerm",
        "outputId": "ee046bbd-5cab-4fe8-856b-82c5e2aa4526"
      },
      "execution_count": null,
      "outputs": [
        {
          "output_type": "execute_result",
          "data": {
            "text/plain": [
              "0.1319"
            ]
          },
          "metadata": {},
          "execution_count": 13
        }
      ]
    },
    {
      "cell_type": "code",
      "source": [
        "#equal or less than 4 correct answer\n",
        "#20000 - number of trials of the model\n",
        "sum(np.random.binomial(12,0.2,20000)<=4)/20000"
      ],
      "metadata": {
        "colab": {
          "base_uri": "https://localhost:8080/"
        },
        "id": "uLp7_zvbpHmg",
        "outputId": "25a812fe-548d-433c-841b-47419f2e774b"
      },
      "execution_count": null,
      "outputs": [
        {
          "output_type": "execute_result",
          "data": {
            "text/plain": [
              "0.92635"
            ]
          },
          "metadata": {},
          "execution_count": 14
        }
      ]
    },
    {
      "cell_type": "code",
      "source": [
        "#9 wells are explored and drilled. success rate -0.1. Case : All 9 fails\n",
        "sum(np.random.binomial(9,0.1,20000)==0)/20000"
      ],
      "metadata": {
        "colab": {
          "base_uri": "https://localhost:8080/"
        },
        "id": "FDZwHUp3qtVU",
        "outputId": "297ae376-0ab5-42bd-e007-948c589759ba"
      },
      "execution_count": null,
      "outputs": [
        {
          "output_type": "execute_result",
          "data": {
            "text/plain": [
              "0.39275"
            ]
          },
          "metadata": {},
          "execution_count": 16
        }
      ]
    },
    {
      "cell_type": "markdown",
      "source": [
        "Poisson"
      ],
      "metadata": {
        "id": "PaUfd1hHrXEM"
      }
    },
    {
      "cell_type": "code",
      "source": [
        "#12 cars crossing bridge at a time on average. Case : 17 or more cars crossing the bridge in a minute\n",
        "sum(np.random.poisson(12,5000)>=17)/5000"
      ],
      "metadata": {
        "colab": {
          "base_uri": "https://localhost:8080/"
        },
        "id": "RytJUpHgrNdF",
        "outputId": "3dc39324-f9d2-4760-c966-22ed2af18a8a"
      },
      "execution_count": null,
      "outputs": [
        {
          "output_type": "execute_result",
          "data": {
            "text/plain": [
              "0.1032"
            ]
          },
          "metadata": {},
          "execution_count": 17
        }
      ]
    },
    {
      "cell_type": "markdown",
      "source": [
        "Uniform"
      ],
      "metadata": {
        "id": "Q1wXXDsJr5Ya"
      }
    },
    {
      "cell_type": "code",
      "source": [
        "#a=0,b=20; Case : greater than 5\n",
        "sum(np.random.uniform(0,20,5000)>5)/5000"
      ],
      "metadata": {
        "colab": {
          "base_uri": "https://localhost:8080/"
        },
        "id": "zthuqWc0r1c4",
        "outputId": "5b63c9b6-4c43-4cd5-8a34-2c67b3e0f279"
      },
      "execution_count": null,
      "outputs": [
        {
          "output_type": "execute_result",
          "data": {
            "text/plain": [
              "0.7466"
            ]
          },
          "metadata": {},
          "execution_count": 19
        }
      ]
    },
    {
      "cell_type": "code",
      "source": [
        "#a=0,b=20; Case : lesser than 5\n",
        "sum(np.random.uniform(0,20,5000)<5)/5000"
      ],
      "metadata": {
        "colab": {
          "base_uri": "https://localhost:8080/"
        },
        "id": "FcrcIltQsRNp",
        "outputId": "ce7efbd6-d066-488e-88d4-f9dd18eb6ef2"
      },
      "execution_count": null,
      "outputs": [
        {
          "output_type": "execute_result",
          "data": {
            "text/plain": [
              "0.2522"
            ]
          },
          "metadata": {},
          "execution_count": 20
        }
      ]
    },
    {
      "cell_type": "code",
      "source": [
        "s=np.random.uniform(-1,0,500)"
      ],
      "metadata": {
        "id": "GSHySfhNskKD"
      },
      "execution_count": null,
      "outputs": []
    },
    {
      "cell_type": "code",
      "source": [
        "np.all(s >= 0)\n"
      ],
      "metadata": {
        "colab": {
          "base_uri": "https://localhost:8080/"
        },
        "id": "kbH-G-mts3h2",
        "outputId": "e45084ee-7421-4060-d66b-5d38c98abebe"
      },
      "execution_count": null,
      "outputs": [
        {
          "output_type": "execute_result",
          "data": {
            "text/plain": [
              "False"
            ]
          },
          "metadata": {},
          "execution_count": 22
        }
      ]
    },
    {
      "cell_type": "markdown",
      "source": [
        "Normal Distributions\n"
      ],
      "metadata": {
        "id": "6gG_jCbhtA8_"
      }
    },
    {
      "cell_type": "code",
      "source": [
        "#should define mean and standard deviation\n",
        "stddev =5\n",
        "mean=7\n",
        "sum(np.random.normal(mean, stddev, 1000) >13)/1000"
      ],
      "metadata": {
        "colab": {
          "base_uri": "https://localhost:8080/"
        },
        "id": "RKn9pjQ_s735",
        "outputId": "cb7f59a3-f416-4e0e-b7da-1ee25a654bd6"
      },
      "execution_count": null,
      "outputs": [
        {
          "output_type": "execute_result",
          "data": {
            "text/plain": [
              "0.11"
            ]
          },
          "metadata": {},
          "execution_count": 23
        }
      ]
    },
    {
      "cell_type": "code",
      "source": [
        "x = np.random.normal(mean,stddev,1000)"
      ],
      "metadata": {
        "id": "KQ4EWqz1tZjz"
      },
      "execution_count": null,
      "outputs": []
    },
    {
      "cell_type": "code",
      "source": [
        "import matplotlib.pyplot as plt\n",
        "\n",
        "count, bins, ignored = plt.hist(x, 30, density=True)\n",
        "plt.plot(bins, 1/(stddev * np.sqrt(2 * np.pi)) *\n",
        "np.exp( - (bins - mean)**2 / (2 * stddev**2) ),\n",
        "linewidth=2, color='r')\n",
        "plt.show()"
      ],
      "metadata": {
        "colab": {
          "base_uri": "https://localhost:8080/",
          "height": 265
        },
        "id": "o5BXrcRetzMd",
        "outputId": "e94eb543-22b7-4372-d079-d3eb5d6affb4"
      },
      "execution_count": null,
      "outputs": [
        {
          "output_type": "display_data",
          "data": {
            "text/plain": [
              "<Figure size 432x288 with 1 Axes>"
            ],
            "image/png": "[encoded data removed]"
          },
          "metadata": {
            "needs_background": "light"
          }
        }
      ]
    },
    {
      "cell_type": "markdown",
      "source": [
        "Exponential"
      ],
      "metadata": {
        "id": "KHTCeTskuI4w"
      }
    },
    {
      "cell_type": "code",
      "source": [
        "#random samples of exponential distribution\n",
        "#attributes : scale, size"
      ],
      "metadata": {
        "id": "GW-edKWMt7kR"
      },
      "execution_count": null,
      "outputs": []
    },
    {
      "cell_type": "code",
      "source": [
        "sum(np.random.exponential(scale=0.5,size=10000)<0.5)/10000"
      ],
      "metadata": {
        "colab": {
          "base_uri": "https://localhost:8080/"
        },
        "id": "TAsNAGGcu3_A",
        "outputId": "5e59348d-1bbc-4893-e958-1d0fb816c45d"
      },
      "execution_count": null,
      "outputs": [
        {
          "output_type": "execute_result",
          "data": {
            "text/plain": [
              "0.6342"
            ]
          },
          "metadata": {},
          "execution_count": 29
        }
      ]
    },
    {
      "cell_type": "code",
      "source": [
        "x = np.random.exponential(scale=0.5,size=1000)"
      ],
      "metadata": {
        "id": "aT2NaAWOvRR-"
      },
      "execution_count": null,
      "outputs": []
    },
    {
      "cell_type": "code",
      "source": [
        "plt.hist(x, 14, density = True)"
      ],
      "metadata": {
        "colab": {
          "base_uri": "https://localhost:8080/",
          "height": 404
        },
        "id": "Mb1TBINJvc5w",
        "outputId": "ee9b1223-0e7b-45ed-eb1a-49661b602305"
      },
      "execution_count": null,
      "outputs": [
        {
          "output_type": "execute_result",
          "data": {
            "text/plain": [
              "(array([1.41208309, 0.75602679, 0.49048019, 0.24055398, 0.10621864,\n",
              "        0.06872971, 0.03436485, 0.00624816, 0.00312408, 0.        ,\n",
              "        0.        , 0.        , 0.00312408, 0.00312408]),\n",
              " array([1.20609693e-04, 3.20215088e-01, 6.40309567e-01, 9.60404046e-01,\n",
              "        1.28049852e+00, 1.60059300e+00, 1.92068748e+00, 2.24078196e+00,\n",
              "        2.56087644e+00, 2.88097092e+00, 3.20106540e+00, 3.52115987e+00,\n",
              "        3.84125435e+00, 4.16134883e+00, 4.48144331e+00]),\n",
              " <a list of 14 Patch objects>)"
            ]
          },
          "metadata": {},
          "execution_count": 32
        },
        {
          "output_type": "display_data",
          "data": {
            "text/plain": [
              "<Figure size 432x288 with 1 Axes>"
            ],
            "image/png": "[encoded data removed]"
          },
          "metadata": {
            "needs_background": "light"
          }
        }
      ]
    },
    {
      "cell_type": "code",
      "source": [],
      "metadata": {
        "id": "rNf6aBWZv3jr"
      },
      "execution_count": null,
      "outputs": []
    }
  ]
}