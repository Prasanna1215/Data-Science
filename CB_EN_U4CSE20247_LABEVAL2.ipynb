{
  "nbformat": 4,
  "nbformat_minor": 0,
  "metadata": {
    "colab": {
      "provenance": []
    },
    "kernelspec": {
      "name": "python3",
      "display_name": "Python 3"
    },
    "language_info": {
      "name": "python"
    }
  },
  "cells": [
    {
      "cell_type": "markdown",
      "source": [
        "CB.EN.U4.CSE20247"
      ],
      "metadata": {
        "id": "kTbqES3VN6Nq"
      }
    },
    {
      "cell_type": "markdown",
      "source": [
        "Part 1"
      ],
      "metadata": {
        "id": "7RzI9v6wOCAd"
      }
    },
    {
      "cell_type": "code",
      "source": [
        "import pandas as pd\n",
        "import numpy as np\n",
        "from scipy import stats\n",
        "import seaborn as sns\n",
        "import matplotlib.pyplot as plt\n",
        "import matplotlib.pyplot as plt"
      ],
      "metadata": {
        "id": "WAvxuhxnOh9x"
      },
      "execution_count": 20,
      "outputs": []
    },
    {
      "cell_type": "markdown",
      "source": [
        "1. Null and Alternate hypothesis\n",
        "\n",
        "    H_0: The frequencies of the flowers in the sample is inline with the hypothesized frequencies.\n",
        "\n",
        "    freq = [0.25, 0.75]\n",
        "\n",
        "    H_1: The hypothesized frequencies do not correspond the sample frequencies\n",
        "\n",
        "    freq not equal to [0.25, 0.75]"
      ],
      "metadata": {
        "id": "G-s-gYCWWCwA"
      }
    },
    {
      "cell_type": "code",
      "source": [
        "\n",
        "df = pd.DataFrame({\"Color\":[\"White\",\"Purple\"],\"Hypothesis\":[0.25,0.75],\"Sample\":[(929-752)/929, 752/929]})\n",
        "df"
      ],
      "metadata": {
        "colab": {
          "base_uri": "https://localhost:8080/",
          "height": 112
        },
        "id": "A2LvTWS0OkJD",
        "outputId": "e2bda11c-8167-4318-af71-b1e22b873a86"
      },
      "execution_count": 25,
      "outputs": [
        {
          "output_type": "execute_result",
          "data": {
            "text/plain": [
              "    Color  Hypothesis    Sample\n",
              "0   White        0.25  0.190527\n",
              "1  Purple        0.75  0.809473"
            ],
            "text/html": [
              "\n",
              "  <div id=\"df-8721adb3-816c-461c-afe0-1265eb075bca\">\n",
              "    <div class=\"colab-df-container\">\n",
              "      <div>\n",
              "<style scoped>\n",
              "    .dataframe tbody tr th:only-of-type {\n",
              "        vertical-align: middle;\n",
              "    }\n",
              "\n",
              "    .dataframe tbody tr th {\n",
              "        vertical-align: top;\n",
              "    }\n",
              "\n",
              "    .dataframe thead th {\n",
              "        text-align: right;\n",
              "    }\n",
              "</style>\n",
              "<table border=\"1\" class=\"dataframe\">\n",
              "  <thead>\n",
              "    <tr style=\"text-align: right;\">\n",
              "      <th></th>\n",
              "      <th>Color</th>\n",
              "      <th>Hypothesis</th>\n",
              "      <th>Sample</th>\n",
              "    </tr>\n",
              "  </thead>\n",
              "  <tbody>\n",
              "    <tr>\n",
              "      <th>0</th>\n",
              "      <td>White</td>\n",
              "      <td>0.25</td>\n",
              "      <td>0.190527</td>\n",
              "    </tr>\n",
              "    <tr>\n",
              "      <th>1</th>\n",
              "      <td>Purple</td>\n",
              "      <td>0.75</td>\n",
              "      <td>0.809473</td>\n",
              "    </tr>\n",
              "  </tbody>\n",
              "</table>\n",
              "</div>\n",
              "      <button class=\"colab-df-convert\" onclick=\"convertToInteractive('df-8721adb3-816c-461c-afe0-1265eb075bca')\"\n",
              "              title=\"Convert this dataframe to an interactive table.\"\n",
              "              style=\"display:none;\">\n",
              "        \n",
              "  <svg xmlns=\"http://www.w3.org/2000/svg\" height=\"24px\"viewBox=\"0 0 24 24\"\n",
              "       width=\"24px\">\n",
              "    <path d=\"M0 0h24v24H0V0z\" fill=\"none\"/>\n",
              "    <path d=\"M18.56 5.44l.94 2.06.94-2.06 2.06-.94-2.06-.94-.94-2.06-.94 2.06-2.06.94zm-11 1L8.5 8.5l.94-2.06 2.06-.94-2.06-.94L8.5 2.5l-.94 2.06-2.06.94zm10 10l.94 2.06.94-2.06 2.06-.94-2.06-.94-.94-2.06-.94 2.06-2.06.94z\"/><path d=\"M17.41 7.96l-1.37-1.37c-.4-.4-.92-.59-1.43-.59-.52 0-1.04.2-1.43.59L10.3 9.45l-7.72 7.72c-.78.78-.78 2.05 0 2.83L4 21.41c.39.39.9.59 1.41.59.51 0 1.02-.2 1.41-.59l7.78-7.78 2.81-2.81c.8-.78.8-2.07 0-2.86zM5.41 20L4 18.59l7.72-7.72 1.47 1.35L5.41 20z\"/>\n",
              "  </svg>\n",
              "      </button>\n",
              "      \n",
              "  <style>\n",
              "    .colab-df-container {\n",
              "      display:flex;\n",
              "      flex-wrap:wrap;\n",
              "      gap: 12px;\n",
              "    }\n",
              "\n",
              "    .colab-df-convert {\n",
              "      background-color: #E8F0FE;\n",
              "      border: none;\n",
              "      border-radius: 50%;\n",
              "      cursor: pointer;\n",
              "      display: none;\n",
              "      fill: #1967D2;\n",
              "      height: 32px;\n",
              "      padding: 0 0 0 0;\n",
              "      width: 32px;\n",
              "    }\n",
              "\n",
              "    .colab-df-convert:hover {\n",
              "      background-color: #E2EBFA;\n",
              "      box-shadow: 0px 1px 2px rgba(60, 64, 67, 0.3), 0px 1px 3px 1px rgba(60, 64, 67, 0.15);\n",
              "      fill: #174EA6;\n",
              "    }\n",
              "\n",
              "    [theme=dark] .colab-df-convert {\n",
              "      background-color: #3B4455;\n",
              "      fill: #D2E3FC;\n",
              "    }\n",
              "\n",
              "    [theme=dark] .colab-df-convert:hover {\n",
              "      background-color: #434B5C;\n",
              "      box-shadow: 0px 1px 3px 1px rgba(0, 0, 0, 0.15);\n",
              "      filter: drop-shadow(0px 1px 2px rgba(0, 0, 0, 0.3));\n",
              "      fill: #FFFFFF;\n",
              "    }\n",
              "  </style>\n",
              "\n",
              "      <script>\n",
              "        const buttonEl =\n",
              "          document.querySelector('#df-8721adb3-816c-461c-afe0-1265eb075bca button.colab-df-convert');\n",
              "        buttonEl.style.display =\n",
              "          google.colab.kernel.accessAllowed ? 'block' : 'none';\n",
              "\n",
              "        async function convertToInteractive(key) {\n",
              "          const element = document.querySelector('#df-8721adb3-816c-461c-afe0-1265eb075bca');\n",
              "          const dataTable =\n",
              "            await google.colab.kernel.invokeFunction('convertToInteractive',\n",
              "                                                     [key], {});\n",
              "          if (!dataTable) return;\n",
              "\n",
              "          const docLinkHtml = 'Like what you see? Visit the ' +\n",
              "            '<a target=\"_blank\" href=https://colab.research.google.com/notebooks/data_table.ipynb>data table notebook</a>'\n",
              "            + ' to learn more about interactive tables.';\n",
              "          element.innerHTML = '';\n",
              "          dataTable['output_type'] = 'display_data';\n",
              "          await google.colab.output.renderOutput(dataTable, element);\n",
              "          const docLink = document.createElement('div');\n",
              "          docLink.innerHTML = docLinkHtml;\n",
              "          element.appendChild(docLink);\n",
              "        }\n",
              "      </script>\n",
              "    </div>\n",
              "  </div>\n",
              "  "
            ]
          },
          "metadata": {},
          "execution_count": 25
        }
      ]
    },
    {
      "cell_type": "markdown",
      "source": [
        "2. The test statistic used here is z score of __TVD__.\n",
        "\n",
        "    TVD is defined as frac\\Sigma |dist_1 - dist_2|}{2}\n",
        "\n",
        "    Since 1753 is not smaller than 30 the z score can be used."
      ],
      "metadata": {
        "id": "Jos-NUx7WM9L"
      }
    },
    {
      "cell_type": "code",
      "source": [
        "def tvd(dist1, dist2):\n",
        "    return abs(np.subtract(dist1, dist2)).sum() / 2"
      ],
      "metadata": {
        "id": "zxypowV9Utii"
      },
      "execution_count": 23,
      "outputs": []
    },
    {
      "cell_type": "code",
      "source": [
        "given_tvd = tvd(df[\"Hypothesis\"],df[\"Sample\"])\n",
        "print(given_tvd)"
      ],
      "metadata": {
        "colab": {
          "base_uri": "https://localhost:8080/"
        },
        "id": "I-YWMj5VUv-j",
        "outputId": "71aa0794-0a48-4a25-c6d4-014d130ca506"
      },
      "execution_count": 26,
      "outputs": [
        {
          "output_type": "stream",
          "name": "stdout",
          "text": [
            "0.0594725511302476\n"
          ]
        }
      ]
    },
    {
      "cell_type": "markdown",
      "source": [
        "3. The observed TVD is 0.059. The empirical p value of 0.059 is 0.10"
      ],
      "metadata": {
        "id": "79GGXGJzWoHB"
      }
    },
    {
      "cell_type": "code",
      "source": [
        "def sample_proportions(sample_size, probabilities):\n",
        "    return np.random.multinomial(sample_size, probabilities)/ sample_size"
      ],
      "metadata": {
        "id": "1DzX62uMVIAo"
      },
      "execution_count": 27,
      "outputs": []
    },
    {
      "cell_type": "code",
      "source": [
        "sampling_tvd = []\n",
        "for _ in range(2000-247):\n",
        "    tmp = sample_proportions(929, df[\"Hypothesis\"])\n",
        "    sampling_tvd.append(tvd(tmp, df[\"Hypothesis\"]))"
      ],
      "metadata": {
        "id": "gxSWVDzqVUCs"
      },
      "execution_count": 31,
      "outputs": []
    },
    {
      "cell_type": "code",
      "source": [
        "np.count_nonzero(sampling_tvd >= given_tvd) / len(sampling_tvd)"
      ],
      "metadata": {
        "colab": {
          "base_uri": "https://localhost:8080/"
        },
        "id": "jVyG1iu5VQ0I",
        "outputId": "555f2f71-eea3-40ff-a927-59ed99d8e831"
      },
      "execution_count": 32,
      "outputs": [
        {
          "output_type": "execute_result",
          "data": {
            "text/plain": [
              "0.0005704506560182544"
            ]
          },
          "metadata": {},
          "execution_count": 32
        }
      ]
    },
    {
      "cell_type": "code",
      "source": [
        "stats.norm.ppf(0.10)"
      ],
      "metadata": {
        "colab": {
          "base_uri": "https://localhost:8080/"
        },
        "id": "85eR8TYsVN5L",
        "outputId": "310d5a15-eb1f-4a67-d349-4e9ddd389705"
      },
      "execution_count": 28,
      "outputs": [
        {
          "output_type": "execute_result",
          "data": {
            "text/plain": [
              "-1.2815515655446004"
            ]
          },
          "metadata": {},
          "execution_count": 28
        }
      ]
    },
    {
      "cell_type": "code",
      "source": [
        "fig, ax = plt.subplots()\n",
        "sns.histplot(ax=ax, x=sampling_tvd)\n",
        "plt.scatter(given_tvd, 1, marker=\"o\", s=100, color=\"r\")\n",
        "plt.show()"
      ],
      "metadata": {
        "colab": {
          "base_uri": "https://localhost:8080/",
          "height": 265
        },
        "id": "Ofo-_M9aVj_Z",
        "outputId": "a02b4fad-843a-4f6d-c52d-896ae7253a38"
      },
      "execution_count": 33,
      "outputs": [
        {
          "output_type": "display_data",
          "data": {
            "text/plain": [
              "<Figure size 432x288 with 1 Axes>"
            ],
            "image/png": "[encoded data removed]"
          },
          "metadata": {
            "needs_background": "light"
          }
        }
      ]
    },
    {
      "cell_type": "markdown",
      "source": [
        "6. Outcome\n",
        "\n",
        "    The empirical probability of obtaining a sample with atleast the TVD of the given sample is 0.10, which is 10. Since 10 is greater than both of the most commonly used\\alpha values [5,1], the  Null hypothesis cannot be rejected. Mendel hypothesis that purple and white flowers of pea plant grow in the ratio of 3:1 cannot be rejected."
      ],
      "metadata": {
        "id": "KVyhK8hJVyL3"
      }
    },
    {
      "cell_type": "markdown",
      "source": [
        "Part 2\n"
      ],
      "metadata": {
        "id": "JGduuEZDKUAB"
      }
    },
    {
      "cell_type": "code",
      "source": [
        "import math\n",
        "import numpy as np\n",
        "import scipy.stats as st\n",
        "from numpy.random import randn\n",
        "from statsmodels.stats.weightstats import ztest\n",
        "n = 30\n",
        "xbar = 65.10\n",
        "mu = 60\n",
        "sigma = 13.46\n",
        "alpha = 0.05\n",
        "z_criticalnve = st.norm.ppf(alpha)\n",
        "z_criticalpve=abs(st.norm.ppf(alpha))\n",
        "z = (xbar-mu)/(sigma/np.sqrt(n))\n",
        "if (z < z_criticalpve and z>z_criticalnve):\n",
        "    print(\"Null hypothesis cannot be rejected,(Z test)\")\n",
        "else:\n",
        "    print(\"Reject null hypothesis,(Z test)\")\n",
        "p_val = (1 - st.norm.cdf(abs(z))) *2\n",
        "if (p_val > alpha):\n",
        "    print(\"Null hypothesis cannot be rejected,(p value)\")\n",
        "else:\n",
        "    print(\"Reject null hypothesis,(p value)\")\n",
        "print(\"Z_critical negative:\",z_criticalnve)\n",
        "print(\"Z_critical positive:\",z_criticalpve)\n",
        "print(\"Z:\",z)\n",
        "print(\"p_value:\",p_val)"
      ],
      "metadata": {
        "colab": {
          "base_uri": "https://localhost:8080/"
        },
        "id": "xLVpkdmhKXdA",
        "outputId": "20c8e310-f4bc-4f8f-a1d1-06b1323199f2"
      },
      "execution_count": 16,
      "outputs": [
        {
          "output_type": "stream",
          "name": "stdout",
          "text": [
            "Reject null hypothesis,(Z test)\n",
            "Reject null hypothesis,(p value)\n",
            "Z_critical negative: -1.6448536269514729\n",
            "Z_critical positive: 1.6448536269514729\n",
            "Z: 2.075323211943792\n",
            "p_value: 0.03795658956990633\n"
          ]
        }
      ]
    }
  ]
}