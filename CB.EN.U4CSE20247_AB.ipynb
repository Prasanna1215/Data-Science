{
 "cells": [
  {
   "cell_type": "code",
   "execution_count": 138,
   "metadata": {},
   "outputs": [],
   "source": [
    "import pandas as pd\n",
    "import numpy as np\n",
    "import matplotlib.pyplot as plt\n",
    "import seaborn as sns\n",
    "import scipy.stats as st"
   ]
  },
  {
   "cell_type": "code",
   "execution_count": 139,
   "metadata": {},
   "outputs": [],
   "source": [
    "df=pd.read_csv('Ajio.csv')"
   ]
  },
  {
   "cell_type": "code",
   "execution_count": 140,
   "metadata": {},
   "outputs": [
    {
     "data": {
      "text/html": [
       "<div>\n",
       "<style scoped>\n",
       "    .dataframe tbody tr th:only-of-type {\n",
       "        vertical-align: middle;\n",
       "    }\n",
       "\n",
       "    .dataframe tbody tr th {\n",
       "        vertical-align: top;\n",
       "    }\n",
       "\n",
       "    .dataframe thead th {\n",
       "        text-align: right;\n",
       "    }\n",
       "</style>\n",
       "<table border=\"1\" class=\"dataframe\">\n",
       "  <thead>\n",
       "    <tr style=\"text-align: right;\">\n",
       "      <th></th>\n",
       "      <th>Product_URL</th>\n",
       "      <th>Brand</th>\n",
       "      <th>Description</th>\n",
       "      <th>Id_Product</th>\n",
       "      <th>URL_image</th>\n",
       "      <th>Category_by_gender</th>\n",
       "      <th>Discount Price (in Rs.)</th>\n",
       "      <th>Original Price (in Rs.)</th>\n",
       "      <th>Color</th>\n",
       "    </tr>\n",
       "  </thead>\n",
       "  <tbody>\n",
       "    <tr>\n",
       "      <th>0</th>\n",
       "      <td>https://www.ajio.com/netplay-checked-polo-t-sh...</td>\n",
       "      <td>netplay</td>\n",
       "      <td>Checked Polo T-shirt</td>\n",
       "      <td>4.410000e+11</td>\n",
       "      <td>https://assets.ajio.com/medias/sys_master/root...</td>\n",
       "      <td>Men</td>\n",
       "      <td>559</td>\n",
       "      <td>699</td>\n",
       "      <td>white</td>\n",
       "    </tr>\n",
       "    <tr>\n",
       "      <th>1</th>\n",
       "      <td>https://www.ajio.com/netplay-tapered-fit-flat-...</td>\n",
       "      <td>netplay</td>\n",
       "      <td>Tapered Fit Flat-Front Trousers</td>\n",
       "      <td>4.410000e+11</td>\n",
       "      <td>https://assets.ajio.com/medias/sys_master/root...</td>\n",
       "      <td>Men</td>\n",
       "      <td>720</td>\n",
       "      <td>1,499</td>\n",
       "      <td>navy</td>\n",
       "    </tr>\n",
       "    <tr>\n",
       "      <th>2</th>\n",
       "      <td>https://www.ajio.com/the-indian-garage-co-stri...</td>\n",
       "      <td>the-indian-garage-co</td>\n",
       "      <td>Striped Slim Fit Shirt with Patch Pocket</td>\n",
       "      <td>4.600000e+11</td>\n",
       "      <td>https://assets.ajio.com/medias/sys_master/root...</td>\n",
       "      <td>Men</td>\n",
       "      <td>495</td>\n",
       "      <td>1,649</td>\n",
       "      <td>white</td>\n",
       "    </tr>\n",
       "    <tr>\n",
       "      <th>3</th>\n",
       "      <td>https://www.ajio.com/performax-heathered-crew-...</td>\n",
       "      <td>performax</td>\n",
       "      <td>Heathered Crew-Neck T-shirt</td>\n",
       "      <td>4.410000e+11</td>\n",
       "      <td>https://assets.ajio.com/medias/sys_master/root...</td>\n",
       "      <td>Men</td>\n",
       "      <td>329</td>\n",
       "      <td>599</td>\n",
       "      <td>charcoal</td>\n",
       "    </tr>\n",
       "    <tr>\n",
       "      <th>4</th>\n",
       "      <td>https://www.ajio.com/john-players-jeans-washed...</td>\n",
       "      <td>john-players-jeans</td>\n",
       "      <td>Washed Skinny Fit Jeans with Whiskers</td>\n",
       "      <td>4.410000e+11</td>\n",
       "      <td>https://assets.ajio.com/medias/sys_master/root...</td>\n",
       "      <td>Men</td>\n",
       "      <td>899</td>\n",
       "      <td>999</td>\n",
       "      <td>jetblack</td>\n",
       "    </tr>\n",
       "    <tr>\n",
       "      <th>...</th>\n",
       "      <td>...</td>\n",
       "      <td>...</td>\n",
       "      <td>...</td>\n",
       "      <td>...</td>\n",
       "      <td>...</td>\n",
       "      <td>...</td>\n",
       "      <td>...</td>\n",
       "      <td>...</td>\n",
       "      <td>...</td>\n",
       "    </tr>\n",
       "    <tr>\n",
       "      <th>2014</th>\n",
       "      <td>https://www.ajio.com/satrani-poly-silk-printed...</td>\n",
       "      <td>satrani</td>\n",
       "      <td>Poly Silk Printed Saree with Blouse Piece</td>\n",
       "      <td>4.615830e+11</td>\n",
       "      <td>https://assets.ajio.com/medias/sys_master/root...</td>\n",
       "      <td>Women</td>\n",
       "      <td>441</td>\n",
       "      <td>999</td>\n",
       "      <td>navy</td>\n",
       "    </tr>\n",
       "    <tr>\n",
       "      <th>2015</th>\n",
       "      <td>https://www.ajio.com/american-eagle-outfitters...</td>\n",
       "      <td>american-eagle-outfitters</td>\n",
       "      <td>Floral Print Button-Down Peplum Loose Top with...</td>\n",
       "      <td>4.691140e+11</td>\n",
       "      <td>https://assets.ajio.com/medias/sys_master/root...</td>\n",
       "      <td>Women</td>\n",
       "      <td>1,799</td>\n",
       "      <td>2,999</td>\n",
       "      <td>cream</td>\n",
       "    </tr>\n",
       "    <tr>\n",
       "      <th>2016</th>\n",
       "      <td>https://www.ajio.com/indie-picks-handblock-pri...</td>\n",
       "      <td>indie-picks</td>\n",
       "      <td>Handblock Print Kalamkari Cotton Dupatta</td>\n",
       "      <td>4.690400e+11</td>\n",
       "      <td>https://assets.ajio.com/medias/sys_master/root...</td>\n",
       "      <td>Women</td>\n",
       "      <td>360</td>\n",
       "      <td>899</td>\n",
       "      <td>multi</td>\n",
       "    </tr>\n",
       "    <tr>\n",
       "      <th>2017</th>\n",
       "      <td>https://www.ajio.com/jdy-by-only-sleeveless-cr...</td>\n",
       "      <td>jdy-by-only</td>\n",
       "      <td>Sleeveless Crew-Neck T-shirt</td>\n",
       "      <td>4.413090e+11</td>\n",
       "      <td>https://assets.ajio.com/medias/sys_master/root...</td>\n",
       "      <td>Women</td>\n",
       "      <td>569</td>\n",
       "      <td>949</td>\n",
       "      <td>purple</td>\n",
       "    </tr>\n",
       "    <tr>\n",
       "      <th>2018</th>\n",
       "      <td>https://www.ajio.com/satrani-geometric-print-s...</td>\n",
       "      <td>satrani</td>\n",
       "      <td>Geometric Print Saree with Zari Border</td>\n",
       "      <td>4.639130e+11</td>\n",
       "      <td>https://assets.ajio.com/medias/sys_master/root...</td>\n",
       "      <td>Women</td>\n",
       "      <td>593</td>\n",
       "      <td>1,663</td>\n",
       "      <td>pink</td>\n",
       "    </tr>\n",
       "  </tbody>\n",
       "</table>\n",
       "<p>2019 rows × 9 columns</p>\n",
       "</div>"
      ],
      "text/plain": [
       "                                            Product_URL  \\\n",
       "0     https://www.ajio.com/netplay-checked-polo-t-sh...   \n",
       "1     https://www.ajio.com/netplay-tapered-fit-flat-...   \n",
       "2     https://www.ajio.com/the-indian-garage-co-stri...   \n",
       "3     https://www.ajio.com/performax-heathered-crew-...   \n",
       "4     https://www.ajio.com/john-players-jeans-washed...   \n",
       "...                                                 ...   \n",
       "2014  https://www.ajio.com/satrani-poly-silk-printed...   \n",
       "2015  https://www.ajio.com/american-eagle-outfitters...   \n",
       "2016  https://www.ajio.com/indie-picks-handblock-pri...   \n",
       "2017  https://www.ajio.com/jdy-by-only-sleeveless-cr...   \n",
       "2018  https://www.ajio.com/satrani-geometric-print-s...   \n",
       "\n",
       "                          Brand  \\\n",
       "0                       netplay   \n",
       "1                       netplay   \n",
       "2          the-indian-garage-co   \n",
       "3                     performax   \n",
       "4            john-players-jeans   \n",
       "...                         ...   \n",
       "2014                    satrani   \n",
       "2015  american-eagle-outfitters   \n",
       "2016                indie-picks   \n",
       "2017                jdy-by-only   \n",
       "2018                    satrani   \n",
       "\n",
       "                                            Description    Id_Product  \\\n",
       "0                                  Checked Polo T-shirt  4.410000e+11   \n",
       "1                       Tapered Fit Flat-Front Trousers  4.410000e+11   \n",
       "2              Striped Slim Fit Shirt with Patch Pocket  4.600000e+11   \n",
       "3                           Heathered Crew-Neck T-shirt  4.410000e+11   \n",
       "4                 Washed Skinny Fit Jeans with Whiskers  4.410000e+11   \n",
       "...                                                 ...           ...   \n",
       "2014          Poly Silk Printed Saree with Blouse Piece  4.615830e+11   \n",
       "2015  Floral Print Button-Down Peplum Loose Top with...  4.691140e+11   \n",
       "2016           Handblock Print Kalamkari Cotton Dupatta  4.690400e+11   \n",
       "2017                       Sleeveless Crew-Neck T-shirt  4.413090e+11   \n",
       "2018             Geometric Print Saree with Zari Border  4.639130e+11   \n",
       "\n",
       "                                              URL_image Category_by_gender  \\\n",
       "0     https://assets.ajio.com/medias/sys_master/root...                Men   \n",
       "1     https://assets.ajio.com/medias/sys_master/root...                Men   \n",
       "2     https://assets.ajio.com/medias/sys_master/root...                Men   \n",
       "3     https://assets.ajio.com/medias/sys_master/root...                Men   \n",
       "4     https://assets.ajio.com/medias/sys_master/root...                Men   \n",
       "...                                                 ...                ...   \n",
       "2014  https://assets.ajio.com/medias/sys_master/root...              Women   \n",
       "2015  https://assets.ajio.com/medias/sys_master/root...              Women   \n",
       "2016  https://assets.ajio.com/medias/sys_master/root...              Women   \n",
       "2017  https://assets.ajio.com/medias/sys_master/root...              Women   \n",
       "2018  https://assets.ajio.com/medias/sys_master/root...              Women   \n",
       "\n",
       "     Discount Price (in Rs.) Original Price (in Rs.)     Color  \n",
       "0                        559                     699     white  \n",
       "1                        720                   1,499      navy  \n",
       "2                        495                   1,649     white  \n",
       "3                        329                     599  charcoal  \n",
       "4                        899                     999  jetblack  \n",
       "...                      ...                     ...       ...  \n",
       "2014                     441                     999      navy  \n",
       "2015                   1,799                   2,999     cream  \n",
       "2016                     360                     899     multi  \n",
       "2017                     569                     949    purple  \n",
       "2018                     593                   1,663      pink  \n",
       "\n",
       "[2019 rows x 9 columns]"
      ]
     },
     "execution_count": 140,
     "metadata": {},
     "output_type": "execute_result"
    }
   ],
   "source": [
    "df"
   ]
  },
  {
   "cell_type": "code",
   "execution_count": 141,
   "metadata": {},
   "outputs": [
    {
     "data": {
      "text/html": [
       "<div>\n",
       "<style scoped>\n",
       "    .dataframe tbody tr th:only-of-type {\n",
       "        vertical-align: middle;\n",
       "    }\n",
       "\n",
       "    .dataframe tbody tr th {\n",
       "        vertical-align: top;\n",
       "    }\n",
       "\n",
       "    .dataframe thead th {\n",
       "        text-align: right;\n",
       "    }\n",
       "</style>\n",
       "<table border=\"1\" class=\"dataframe\">\n",
       "  <thead>\n",
       "    <tr style=\"text-align: right;\">\n",
       "      <th></th>\n",
       "      <th>Id_Product</th>\n",
       "    </tr>\n",
       "  </thead>\n",
       "  <tbody>\n",
       "    <tr>\n",
       "      <th>count</th>\n",
       "      <td>2.019000e+03</td>\n",
       "    </tr>\n",
       "    <tr>\n",
       "      <th>mean</th>\n",
       "      <td>4.528714e+11</td>\n",
       "    </tr>\n",
       "    <tr>\n",
       "      <th>std</th>\n",
       "      <td>1.309390e+10</td>\n",
       "    </tr>\n",
       "    <tr>\n",
       "      <th>min</th>\n",
       "      <td>4.100000e+11</td>\n",
       "    </tr>\n",
       "    <tr>\n",
       "      <th>25%</th>\n",
       "      <td>4.410000e+11</td>\n",
       "    </tr>\n",
       "    <tr>\n",
       "      <th>50%</th>\n",
       "      <td>4.609210e+11</td>\n",
       "    </tr>\n",
       "    <tr>\n",
       "      <th>75%</th>\n",
       "      <td>4.631600e+11</td>\n",
       "    </tr>\n",
       "    <tr>\n",
       "      <th>max</th>\n",
       "      <td>4.691950e+11</td>\n",
       "    </tr>\n",
       "  </tbody>\n",
       "</table>\n",
       "</div>"
      ],
      "text/plain": [
       "         Id_Product\n",
       "count  2.019000e+03\n",
       "mean   4.528714e+11\n",
       "std    1.309390e+10\n",
       "min    4.100000e+11\n",
       "25%    4.410000e+11\n",
       "50%    4.609210e+11\n",
       "75%    4.631600e+11\n",
       "max    4.691950e+11"
      ]
     },
     "execution_count": 141,
     "metadata": {},
     "output_type": "execute_result"
    }
   ],
   "source": [
    "df.describe()"
   ]
  },
  {
   "cell_type": "code",
   "execution_count": 142,
   "metadata": {},
   "outputs": [
    {
     "name": "stdout",
     "output_type": "stream",
     "text": [
      "<class 'pandas.core.frame.DataFrame'>\n",
      "RangeIndex: 2019 entries, 0 to 2018\n",
      "Data columns (total 9 columns):\n",
      " #   Column                   Non-Null Count  Dtype  \n",
      "---  ------                   --------------  -----  \n",
      " 0   Product_URL              2019 non-null   object \n",
      " 1   Brand                    2019 non-null   object \n",
      " 2   Description              2019 non-null   object \n",
      " 3   Id_Product               2019 non-null   float64\n",
      " 4   URL_image                2019 non-null   object \n",
      " 5   Category_by_gender       2019 non-null   object \n",
      " 6   Discount Price (in Rs.)  2019 non-null   object \n",
      " 7   Original Price (in Rs.)  2019 non-null   object \n",
      " 8   Color                    2019 non-null   object \n",
      "dtypes: float64(1), object(8)\n",
      "memory usage: 142.1+ KB\n"
     ]
    }
   ],
   "source": [
    "df.info()"
   ]
  },
  {
   "cell_type": "code",
   "execution_count": 143,
   "metadata": {},
   "outputs": [],
   "source": [
    "df['Discount Price (in Rs.)'] = df['Discount Price (in Rs.)'].str.strip(',')\n",
    "df['Discount Price (in Rs.)'] = pd.to_numeric(df['Discount Price (in Rs.)'],errors='coerce')"
   ]
  },
  {
   "cell_type": "code",
   "execution_count": 144,
   "metadata": {},
   "outputs": [],
   "source": [
    "df['gender']=df['Category_by_gender'].apply(change)"
   ]
  },
  {
   "cell_type": "code",
   "execution_count": 145,
   "metadata": {},
   "outputs": [],
   "source": [
    "def change(x):\n",
    "    if x=='Men':\n",
    "        return \"Male\"\n",
    "    else:\n",
    "        return \"Female\""
   ]
  },
  {
   "cell_type": "code",
   "execution_count": 146,
   "metadata": {},
   "outputs": [
    {
     "name": "stdout",
     "output_type": "stream",
     "text": [
      "<class 'pandas.core.frame.DataFrame'>\n",
      "RangeIndex: 2019 entries, 0 to 2018\n",
      "Data columns (total 10 columns):\n",
      " #   Column                   Non-Null Count  Dtype  \n",
      "---  ------                   --------------  -----  \n",
      " 0   Product_URL              2019 non-null   object \n",
      " 1   Brand                    2019 non-null   object \n",
      " 2   Description              2019 non-null   object \n",
      " 3   Id_Product               2019 non-null   float64\n",
      " 4   URL_image                2019 non-null   object \n",
      " 5   Category_by_gender       2019 non-null   object \n",
      " 6   Discount Price (in Rs.)  1439 non-null   float64\n",
      " 7   Original Price (in Rs.)  2019 non-null   object \n",
      " 8   Color                    2019 non-null   object \n",
      " 9   gender                   2019 non-null   object \n",
      "dtypes: float64(2), object(8)\n",
      "memory usage: 157.9+ KB\n"
     ]
    }
   ],
   "source": [
    "df.info()"
   ]
  },
  {
   "attachments": {},
   "cell_type": "markdown",
   "metadata": {},
   "source": [
    "NULL HYPOTHESIS: \n",
    "In the population, the distribution of amount spent for men's products in ajio is same as women's products.\n",
    " "
   ]
  },
  {
   "attachments": {},
   "cell_type": "markdown",
   "metadata": {},
   "source": [
    "ALTERNATIVE HYPOTHESIS:\n",
    "In the population, the distribution of amount spent for men's products in ajio is lesser than women's products."
   ]
  },
  {
   "cell_type": "code",
   "execution_count": 147,
   "metadata": {},
   "outputs": [],
   "source": [
    "price=df[['Discount Price (in Rs.)','gender']]"
   ]
  },
  {
   "cell_type": "code",
   "execution_count": 148,
   "metadata": {},
   "outputs": [
    {
     "data": {
      "text/html": [
       "<div>\n",
       "<style scoped>\n",
       "    .dataframe tbody tr th:only-of-type {\n",
       "        vertical-align: middle;\n",
       "    }\n",
       "\n",
       "    .dataframe tbody tr th {\n",
       "        vertical-align: top;\n",
       "    }\n",
       "\n",
       "    .dataframe thead th {\n",
       "        text-align: right;\n",
       "    }\n",
       "</style>\n",
       "<table border=\"1\" class=\"dataframe\">\n",
       "  <thead>\n",
       "    <tr style=\"text-align: right;\">\n",
       "      <th></th>\n",
       "      <th>Discount Price (in Rs.)</th>\n",
       "      <th>gender</th>\n",
       "    </tr>\n",
       "  </thead>\n",
       "  <tbody>\n",
       "    <tr>\n",
       "      <th>0</th>\n",
       "      <td>559.0</td>\n",
       "      <td>Male</td>\n",
       "    </tr>\n",
       "    <tr>\n",
       "      <th>1</th>\n",
       "      <td>720.0</td>\n",
       "      <td>Male</td>\n",
       "    </tr>\n",
       "    <tr>\n",
       "      <th>2</th>\n",
       "      <td>495.0</td>\n",
       "      <td>Male</td>\n",
       "    </tr>\n",
       "    <tr>\n",
       "      <th>3</th>\n",
       "      <td>329.0</td>\n",
       "      <td>Male</td>\n",
       "    </tr>\n",
       "    <tr>\n",
       "      <th>4</th>\n",
       "      <td>899.0</td>\n",
       "      <td>Male</td>\n",
       "    </tr>\n",
       "    <tr>\n",
       "      <th>...</th>\n",
       "      <td>...</td>\n",
       "      <td>...</td>\n",
       "    </tr>\n",
       "    <tr>\n",
       "      <th>1004</th>\n",
       "      <td>689.0</td>\n",
       "      <td>Male</td>\n",
       "    </tr>\n",
       "    <tr>\n",
       "      <th>1005</th>\n",
       "      <td>319.0</td>\n",
       "      <td>Male</td>\n",
       "    </tr>\n",
       "    <tr>\n",
       "      <th>1006</th>\n",
       "      <td>483.0</td>\n",
       "      <td>Male</td>\n",
       "    </tr>\n",
       "    <tr>\n",
       "      <th>1007</th>\n",
       "      <td>588.0</td>\n",
       "      <td>Male</td>\n",
       "    </tr>\n",
       "    <tr>\n",
       "      <th>1008</th>\n",
       "      <td>NaN</td>\n",
       "      <td>Male</td>\n",
       "    </tr>\n",
       "  </tbody>\n",
       "</table>\n",
       "<p>1009 rows × 2 columns</p>\n",
       "</div>"
      ],
      "text/plain": [
       "      Discount Price (in Rs.) gender\n",
       "0                       559.0   Male\n",
       "1                       720.0   Male\n",
       "2                       495.0   Male\n",
       "3                       329.0   Male\n",
       "4                       899.0   Male\n",
       "...                       ...    ...\n",
       "1004                    689.0   Male\n",
       "1005                    319.0   Male\n",
       "1006                    483.0   Male\n",
       "1007                    588.0   Male\n",
       "1008                      NaN   Male\n",
       "\n",
       "[1009 rows x 2 columns]"
      ]
     },
     "execution_count": 148,
     "metadata": {},
     "output_type": "execute_result"
    }
   ],
   "source": [
    "men=price[price['gender']=='Male']\n",
    "men"
   ]
  },
  {
   "cell_type": "code",
   "execution_count": 149,
   "metadata": {},
   "outputs": [
    {
     "data": {
      "text/plain": [
       "1009    599.0\n",
       "1010      NaN\n",
       "1011      NaN\n",
       "1012    392.0\n",
       "1013    800.0\n",
       "        ...  \n",
       "2014    441.0\n",
       "2015      NaN\n",
       "2016    360.0\n",
       "2017    569.0\n",
       "2018    593.0\n",
       "Name: Discount Price (in Rs.), Length: 1010, dtype: float64"
      ]
     },
     "execution_count": 149,
     "metadata": {},
     "output_type": "execute_result"
    }
   ],
   "source": [
    "wmen=price['Discount Price (in Rs.)'] [price['gender']=='Female']\n",
    "wmen"
   ]
  },
  {
   "cell_type": "code",
   "execution_count": 150,
   "metadata": {},
   "outputs": [
    {
     "data": {
      "text/plain": [
       "array([<AxesSubplot: title={'center': 'Female'}>,\n",
       "       <AxesSubplot: title={'center': 'Male'}>], dtype=object)"
      ]
     },
     "execution_count": 150,
     "metadata": {},
     "output_type": "execute_result"
    },
    {
     "data": {
      "image/png": "[encoded data removed]",
      "text/plain": [
       "<Figure size 640x480 with 2 Axes>"
      ]
     },
     "metadata": {},
     "output_type": "display_data"
    }
   ],
   "source": [
    "price.hist(by='gender')"
   ]
  },
  {
   "cell_type": "code",
   "execution_count": 151,
   "metadata": {},
   "outputs": [
    {
     "data": {
      "image/png": "[encoded data removed]",
      "text/plain": [
       "<Figure size 640x480 with 1 Axes>"
      ]
     },
     "metadata": {},
     "output_type": "display_data"
    }
   ],
   "source": [
    "import seaborn as sns\n",
    "men.hist(histtype='stepfilled', alpha=.5, bins=20)\n",
    "wmen.hist(histtype='stepfilled', alpha=.5,color='green', bins=10)\n",
    "plt.xlabel('price',fontsize=15)\n",
    "plt.show()"
   ]
  },
  {
   "attachments": {},
   "cell_type": "markdown",
   "metadata": {},
   "source": [
    "The distribution of females is sligghtly shifted right of the distribution of males"
   ]
  },
  {
   "cell_type": "code",
   "execution_count": 152,
   "metadata": {},
   "outputs": [
    {
     "data": {
      "text/html": [
       "<div>\n",
       "<style scoped>\n",
       "    .dataframe tbody tr th:only-of-type {\n",
       "        vertical-align: middle;\n",
       "    }\n",
       "\n",
       "    .dataframe tbody tr th {\n",
       "        vertical-align: top;\n",
       "    }\n",
       "\n",
       "    .dataframe thead th {\n",
       "        text-align: right;\n",
       "    }\n",
       "</style>\n",
       "<table border=\"1\" class=\"dataframe\">\n",
       "  <thead>\n",
       "    <tr style=\"text-align: right;\">\n",
       "      <th></th>\n",
       "      <th>Discount Price (in Rs.)</th>\n",
       "    </tr>\n",
       "    <tr>\n",
       "      <th>gender</th>\n",
       "      <th></th>\n",
       "    </tr>\n",
       "  </thead>\n",
       "  <tbody>\n",
       "    <tr>\n",
       "      <th>Female</th>\n",
       "      <td>608.357025</td>\n",
       "    </tr>\n",
       "    <tr>\n",
       "      <th>Male</th>\n",
       "      <td>574.664269</td>\n",
       "    </tr>\n",
       "  </tbody>\n",
       "</table>\n",
       "</div>"
      ],
      "text/plain": [
       "        Discount Price (in Rs.)\n",
       "gender                         \n",
       "Female               608.357025\n",
       "Male                 574.664269"
      ]
     },
     "execution_count": 152,
     "metadata": {},
     "output_type": "execute_result"
    }
   ],
   "source": [
    "means_table = price.groupby('gender').mean()\n",
    "means_table"
   ]
  },
  {
   "cell_type": "code",
   "execution_count": 161,
   "metadata": {},
   "outputs": [
    {
     "data": {
      "text/plain": [
       "33.69275620825647"
      ]
     },
     "execution_count": 161,
     "metadata": {},
     "output_type": "execute_result"
    }
   ],
   "source": [
    "observed_difference = means_table['Discount Price (in Rs.)'][0] - means_table['Discount Price (in Rs.)'][1]\n",
    "observed_difference"
   ]
  },
  {
   "cell_type": "code",
   "execution_count": 167,
   "metadata": {},
   "outputs": [
    {
     "data": {
      "text/plain": [
       "13.547875977977355"
      ]
     },
     "execution_count": 167,
     "metadata": {},
     "output_type": "execute_result"
    }
   ],
   "source": [
    "shuffled = price.sample(2019,replace = False)\n",
    "shuffled_price = shuffled['Discount Price (in Rs.)']\n",
    "original_and_shuffled = price.assign(shuffled_price=shuffled_price.values )\n",
    "all_group_means= original_and_shuffled.groupby('gender').mean()\n",
    "difference = all_group_means['shuffled_price'][0]- all_group_means['shuffled_price'][1]\n",
    "difference"
   ]
  },
  {
   "cell_type": "code",
   "execution_count": 169,
   "metadata": {},
   "outputs": [],
   "source": [
    "import numpy as np\n",
    "import array\n",
    "differences = np.zeros(1000)"
   ]
  },
  {
   "cell_type": "code",
   "execution_count": 175,
   "metadata": {},
   "outputs": [],
   "source": [
    "for i in np.arange(1000):\n",
    "    shuffled = price.sample(2019,replace = False)\n",
    "    shuffled_price = shuffled['Discount Price (in Rs.)']\n",
    "    original_and_shuffled = price.assign(shuffled_price=shuffled_price.values )\n",
    "    all_group_means= original_and_shuffled.groupby('gender').mean()\n",
    "    difference = all_group_means['shuffled_price']['Female']- all_group_means['shuffled_price']['Male']\n",
    "    differences[i]=difference"
   ]
  },
  {
   "cell_type": "code",
   "execution_count": 176,
   "metadata": {},
   "outputs": [
    {
     "data": {
      "text/html": [
       "<div>\n",
       "<style scoped>\n",
       "    .dataframe tbody tr th:only-of-type {\n",
       "        vertical-align: middle;\n",
       "    }\n",
       "\n",
       "    .dataframe tbody tr th {\n",
       "        vertical-align: top;\n",
       "    }\n",
       "\n",
       "    .dataframe thead th {\n",
       "        text-align: right;\n",
       "    }\n",
       "</style>\n",
       "<table border=\"1\" class=\"dataframe\">\n",
       "  <thead>\n",
       "    <tr style=\"text-align: right;\">\n",
       "      <th></th>\n",
       "      <th>0</th>\n",
       "    </tr>\n",
       "  </thead>\n",
       "  <tbody>\n",
       "    <tr>\n",
       "      <th>0</th>\n",
       "      <td>-1.887526</td>\n",
       "    </tr>\n",
       "    <tr>\n",
       "      <th>1</th>\n",
       "      <td>-14.613762</td>\n",
       "    </tr>\n",
       "    <tr>\n",
       "      <th>2</th>\n",
       "      <td>-12.577302</td>\n",
       "    </tr>\n",
       "    <tr>\n",
       "      <th>3</th>\n",
       "      <td>-21.214491</td>\n",
       "    </tr>\n",
       "    <tr>\n",
       "      <th>4</th>\n",
       "      <td>11.806622</td>\n",
       "    </tr>\n",
       "    <tr>\n",
       "      <th>...</th>\n",
       "      <td>...</td>\n",
       "    </tr>\n",
       "    <tr>\n",
       "      <th>995</th>\n",
       "      <td>4.787358</td>\n",
       "    </tr>\n",
       "    <tr>\n",
       "      <th>996</th>\n",
       "      <td>0.385189</td>\n",
       "    </tr>\n",
       "    <tr>\n",
       "      <th>997</th>\n",
       "      <td>12.173913</td>\n",
       "    </tr>\n",
       "    <tr>\n",
       "      <th>998</th>\n",
       "      <td>-1.591653</td>\n",
       "    </tr>\n",
       "    <tr>\n",
       "      <th>999</th>\n",
       "      <td>-6.886002</td>\n",
       "    </tr>\n",
       "  </tbody>\n",
       "</table>\n",
       "<p>1000 rows × 1 columns</p>\n",
       "</div>"
      ],
      "text/plain": [
       "             0\n",
       "0    -1.887526\n",
       "1   -14.613762\n",
       "2   -12.577302\n",
       "3   -21.214491\n",
       "4    11.806622\n",
       "..         ...\n",
       "995   4.787358\n",
       "996   0.385189\n",
       "997  12.173913\n",
       "998  -1.591653\n",
       "999  -6.886002\n",
       "\n",
       "[1000 rows x 1 columns]"
      ]
     },
     "execution_count": 176,
     "metadata": {},
     "output_type": "execute_result"
    }
   ],
   "source": [
    "differences_df = pd.DataFrame(differences)\n",
    "differences_df"
   ]
  },
  {
   "cell_type": "code",
   "execution_count": 182,
   "metadata": {},
   "outputs": [
    {
     "name": "stdout",
     "output_type": "stream",
     "text": [
      "Observed Difference: 33.69275620825647\n"
     ]
    },
    {
     "data": {
      "image/png": "[encoded data removed]",
      "text/plain": [
       "<Figure size 640x480 with 1 Axes>"
      ]
     },
     "metadata": {},
     "output_type": "display_data"
    }
   ],
   "source": [
    "differences_df.hist(bins = np.arange(-100,100,5))\n",
    "plt.title('Prediction Under Null Hypotheses');\n",
    "plt.xlabel('Differences between Group Averages',fontsize=15)\n",
    "plt.ylabel('Units',fontsize=15);\n",
    "print('Observed Difference:', observed_difference)"
   ]
  },
  {
   "cell_type": "code",
   "execution_count": 178,
   "metadata": {},
   "outputs": [
    {
     "data": {
      "text/plain": [
       "1.0"
      ]
     },
     "execution_count": 178,
     "metadata": {},
     "output_type": "execute_result"
    }
   ],
   "source": [
    "np.count_nonzero(differences <= observed_difference)/differences.size"
   ]
  },
  {
   "attachments": {},
   "cell_type": "markdown",
   "metadata": {},
   "source": [
    "Therefore we can say that the distribution of amount spent for men's products in ajio is lesser than women's products.\n",
    "i.e.,we accept alternate hypothesis."
   ]
  },
  {
   "cell_type": "markdown",
   "metadata": {},
   "source": []
  }
 ],
 "metadata": {
  "kernelspec": {
   "display_name": "Python 3",
   "language": "python",
   "name": "python3"
  },
  "language_info": {
   "codemirror_mode": {
    "name": "ipython",
    "version": 3
   },
   "file_extension": ".py",
   "mimetype": "text/x-python",
   "name": "python",
   "nbconvert_exporter": "python",
   "pygments_lexer": "ipython3",
   "version": "3.10.9"
  },
  "orig_nbformat": 4,
  "vscode": {
   "interpreter": {
    "hash": "6654f909d507828b484bd84bff33c4891e922175536f619c555b1cb91707b697"
   }
  }
 },
 "nbformat": 4,
 "nbformat_minor": 2
}
