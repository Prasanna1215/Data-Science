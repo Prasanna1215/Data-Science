{
 "cells": [
  {
   "cell_type": "markdown",
   "metadata": {
    "id": "FOElRp1Vm2OE"
   },
   "source": [
    "# 1."
   ]
  },
  {
   "cell_type": "code",
   "execution_count": 33,
   "metadata": {
    "colab": {
     "base_uri": "https://localhost:8080/"
    },
    "id": "NqFmmrwyPhte",
    "outputId": "47f3212e-e0a8-494f-ec72-e93cca3730be"
   },
   "outputs": [
    {
     "name": "stdout",
     "output_type": "stream",
     "text": [
      "(400.4, 'aman', '222', 777)\n"
     ]
    }
   ],
   "source": [
    "sett = {\"aman\", \"222\", 777, 400.4}\n",
    "tuplee = tuple(sett)\n",
    "print(tuplee)"
   ]
  },
  {
   "cell_type": "markdown",
   "metadata": {
    "id": "MxTza9W_ZPIm"
   },
   "source": [
    "# 2."
   ]
  },
  {
   "cell_type": "code",
   "execution_count": 2,
   "metadata": {
    "colab": {
     "base_uri": "https://localhost:8080/"
    },
    "id": "0bsVJO3R_8j_",
    "outputId": "16c1dc1d-7709-4611-e727-b5e3443c04fe",
    "scrolled": true
   },
   "outputs": [
    {
     "name": "stdout",
     "output_type": "stream",
     "text": [
      "{'Roll Number': 'CB.EN.U4CSE20247', 'Last Name': 'Murugesan', 'First Name': 'Prasanna', 'DOB': '19-06-2002'}\n"
     ]
    }
   ],
   "source": [
    "dict1 = {\"Roll Number\": \"CB.EN.U4CSE20247\",\"Last Name\": \"Murugesan\",\"First Name\": \"Prasanna\",\"DOB\": \"19-06-2002\"}\n",
    "print(dict1)\n"
   ]
  },
  {
   "cell_type": "markdown",
   "metadata": {
    "id": "LhnxRzarZXoA"
   },
   "source": [
    "# 3."
   ]
  },
  {
   "cell_type": "code",
   "execution_count": 4,
   "metadata": {
    "colab": {
     "base_uri": "https://localhost:8080/"
    },
    "id": "g4TwC4HYBOTW",
    "outputId": "0a5efab7-ae44-4cfd-ff38-4aa8b666bd22"
   },
   "outputs": [
    {
     "name": "stdout",
     "output_type": "stream",
     "text": [
      "[[0 0]\n",
      " [0 0]]\n"
     ]
    }
   ],
   "source": [
    "import numpy as np\n",
    "from numpy import random\n",
    "arr = random.randint(0,1,size = (2,2))\n",
    "print(arr)"
   ]
  },
  {
   "cell_type": "markdown",
   "metadata": {
    "id": "4rFEu0djZeUV"
   },
   "source": [
    "# 4."
   ]
  },
  {
   "cell_type": "code",
   "execution_count": 35,
   "metadata": {
    "colab": {
     "base_uri": "https://localhost:8080/"
    },
    "id": "9ImtAOdCCPVW",
    "outputId": "c4efa38d-1f80-47f1-fb67-3a1dea8a8483"
   },
   "outputs": [
    {
     "data": {
      "text/plain": [
       "1234"
      ]
     },
     "execution_count": 35,
     "metadata": {},
     "output_type": "execute_result"
    }
   ],
   "source": [
    "abs(-1234)"
   ]
  },
  {
   "cell_type": "code",
   "execution_count": 5,
   "metadata": {
    "colab": {
     "base_uri": "https://localhost:8080/"
    },
    "id": "OqlSZ1nuG4Jf",
    "outputId": "a68adab3-2371-4197-8e46-cc864663950d"
   },
   "outputs": [
    {
     "name": "stdout",
     "output_type": "stream",
     "text": [
      "0.44166956154123793\n"
     ]
    }
   ],
   "source": [
    "print(random.random())"
   ]
  },
  {
   "cell_type": "markdown",
   "metadata": {
    "id": "R1G0VxuHZ0XA"
   },
   "source": [
    "# 5."
   ]
  },
  {
   "cell_type": "code",
   "execution_count": 6,
   "metadata": {
    "colab": {
     "base_uri": "https://localhost:8080/"
    },
    "id": "qIJk_bPfH3Zv",
    "outputId": "fd0490cc-25a1-45c2-a8ef-3e75f631b54d"
   },
   "outputs": [
    {
     "name": "stdout",
     "output_type": "stream",
     "text": [
      "20\n"
     ]
    }
   ],
   "source": [
    "print(random.randint(20,90))"
   ]
  },
  {
   "cell_type": "markdown",
   "metadata": {
    "id": "iwNnQUqTZw5A"
   },
   "source": [
    "# 6."
   ]
  },
  {
   "cell_type": "code",
   "execution_count": 14,
   "metadata": {
    "colab": {
     "base_uri": "https://localhost:8080/"
    },
    "id": "crDPzkGPIP8U",
    "outputId": "a7d4846d-1ef1-44b5-da86-7b705fbb1dc6"
   },
   "outputs": [
    {
     "name": "stdout",
     "output_type": "stream",
     "text": [
      "[11, 14, 15]\n"
     ]
    }
   ],
   "source": [
    "set1 = set([11,12,13,14,15])\n",
    "set2 = random.choices(list(set1), k=3)\n",
    "print(set2)"
   ]
  },
  {
   "cell_type": "code",
   "execution_count": 23,
   "metadata": {
    "colab": {
     "base_uri": "https://localhost:8080/"
    },
    "id": "00z22v69PEjY",
    "outputId": "700389f7-a219-4ca4-a7cb-4a7e8322ac4f"
   },
   "outputs": [
    {
     "name": "stdout",
     "output_type": "stream",
     "text": [
      "[13, 11, 14]\n",
      "15\n"
     ]
    }
   ],
   "source": [
    "import random\n",
    "Set1 = set([11, 12, 13, 14, 15])\n",
    "UpdatedList = random.choices(list(Set1), k = 3)\n",
    "print(UpdatedList)\n",
    "set2 = random.choice(list(Set1))\n",
    "print(set2)"
   ]
  },
  {
   "cell_type": "markdown",
   "metadata": {
    "id": "fhWBY5hHZsLk"
   },
   "source": [
    "# 7."
   ]
  },
  {
   "cell_type": "code",
   "execution_count": 25,
   "metadata": {
    "colab": {
     "base_uri": "https://localhost:8080/"
    },
    "id": "vhK8xKqoVJut",
    "outputId": "e153121c-2806-4180-fe71-b78295a7c95a"
   },
   "outputs": [
    {
     "name": "stdout",
     "output_type": "stream",
     "text": [
      "The King is Dead, Long Live The King\n"
     ]
    }
   ],
   "source": [
    "import os\n",
    "os.getcwd()\n",
    "os.chdir(r\"/content/sample_data\")\n",
    "os.mkdir('document1')\n",
    "os.chdir('document1')\n",
    "f = open('document_1.txt','w+')\n",
    "f.write('The King is Dead, Long Live The King')\n",
    "f.seek(0)\n",
    "print(f.read())\n",
    "f.close()"
   ]
  },
  {
   "cell_type": "markdown",
   "metadata": {
    "id": "seQQPMqhZof5"
   },
   "source": [
    "# 9."
   ]
  },
  {
   "cell_type": "code",
   "execution_count": 30,
   "metadata": {
    "colab": {
     "base_uri": "https://localhost:8080/"
    },
    "id": "9duhrkwYXssg",
    "outputId": "e873a9b0-086f-40ca-8d56-afae1b66268c"
   },
   "outputs": [
    {
     "name": "stdout",
     "output_type": "stream",
     "text": [
      "The King is Dead, Long Live The King\n",
      "T\n",
      " Ki\n",
      " King is Dead, Long Live The King\n",
      "['The', 'King', 'is', 'Dead,', 'Long', 'Live', 'The', 'King']\n"
     ]
    }
   ],
   "source": [
    "string = 'The King is Dead, Long Live The King'\n",
    "print(string)\n",
    "print(string[0])\n",
    "print(string[3:6])\n",
    "print(string[3:])\n",
    "str = string.split()\n",
    "print(str)"
   ]
  },
  {
   "cell_type": "markdown",
   "metadata": {
    "id": "uymc6dvJY_CZ"
   },
   "source": [
    "# 10."
   ]
  },
  {
   "cell_type": "code",
   "execution_count": null,
   "metadata": {
    "id": "lflNRZQJaQhq"
   },
   "outputs": [],
   "source": [
    "import numpy as np\n",
    "l=[10,67,89,35]\n",
    "arr=np.array(l)\n",
    "print(\"The first and second elements are\",arr[0],arr[1])  "
   ]
  },
  {
   "cell_type": "markdown",
   "metadata": {
    "id": "uF7tAMxIel9w"
   },
   "source": [
    "# 11."
   ]
  },
  {
   "cell_type": "code",
   "execution_count": null,
   "metadata": {
    "id": "6pZqMbyAepSh"
   },
   "outputs": [],
   "source": [
    "arr=np.array([[1.,2.,3.],[4.,5.,6.],[7.,8.,9.]])\n",
    "print(arr)"
   ]
  },
  {
   "cell_type": "markdown",
   "metadata": {
    "id": "VNjjbG1Oher3"
   },
   "source": [
    "# 12."
   ]
  },
  {
   "cell_type": "code",
   "execution_count": 38,
   "metadata": {
    "colab": {
     "base_uri": "https://localhost:8080/"
    },
    "id": "lAgU9HyGhXEW",
    "outputId": "cb787e53-304a-4493-84ad-bc47fe23bd0b"
   },
   "outputs": [
    {
     "name": "stdout",
     "output_type": "stream",
     "text": [
      "Second Row [[0 0]]\n",
      "Second Col [0]\n",
      "Length of the array : 2\n"
     ]
    }
   ],
   "source": [
    "print(\"Second Row\",arr[1:][:])\n",
    "print(\"Second Col\",arr[1:,1])\n",
    "print(\"Length of the array :\",len(arr))"
   ]
  },
  {
   "cell_type": "markdown",
   "metadata": {
    "id": "js-t6sVthkR8"
   },
   "source": [
    "# 13."
   ]
  },
  {
   "cell_type": "code",
   "execution_count": 8,
   "metadata": {
    "colab": {
     "base_uri": "https://localhost:8080/"
    },
    "id": "RYV-GwfMhijP",
    "outputId": "8f8a8a66-3565-49da-ad76-2ccfee188d76"
   },
   "outputs": [
    {
     "name": "stdout",
     "output_type": "stream",
     "text": [
      "1D array : [16 81 27 71  1 16  9 81 20 30]\n",
      "2D array :\n",
      " [[16 81]\n",
      " [27 71]\n",
      " [ 1 16]\n",
      " [ 9 81]\n",
      " [20 30]]\n",
      "Transpose :\n",
      " [[16 27  1  9 20]\n",
      " [81 71 16 81 30]]\n"
     ]
    }
   ],
   "source": [
    "list3=[]\n",
    "for i in range(10):\n",
    "  list3.append(np.random.randint(0,100))\n",
    "oned=np.array(list3)\n",
    "print(\"1D array :\",oned)\n",
    "twod=oned.reshape(5,2)\n",
    "print(\"2D array :\\n\",twod)\n",
    "print(\"Transpose :\\n\",twod.T)"
   ]
  },
  {
   "cell_type": "markdown",
   "metadata": {
    "id": "W7u7hWDMkFVk"
   },
   "source": [
    "# 14."
   ]
  },
  {
   "cell_type": "code",
   "execution_count": 40,
   "metadata": {
    "colab": {
     "base_uri": "https://localhost:8080/"
    },
    "id": "6VaQvMQlkHvp",
    "outputId": "0f9da432-f3a7-44b8-a017-36b9628ceaa1"
   },
   "outputs": [
    {
     "name": "stdout",
     "output_type": "stream",
     "text": [
      "[[1 2 3]\n",
      " [1 2 3]\n",
      " [1 2 3]]\n"
     ]
    }
   ],
   "source": [
    "l1=[1,2,3]\n",
    "l2=[1,2,3]\n",
    "l3=[1,2,3]\n",
    "newarr=np.array([l1,l2,l3])\n",
    "print(newarr)"
   ]
  },
  {
   "cell_type": "markdown",
   "metadata": {
    "id": "miSMpYoDkVn2"
   },
   "source": [
    "# 15."
   ]
  },
  {
   "cell_type": "code",
   "execution_count": 9,
   "metadata": {
    "colab": {
     "base_uri": "https://localhost:8080/"
    },
    "id": "-IsMFP5pkXf4",
    "outputId": "2f74eeec-2fce-42ef-cd47-fc2d3cc5db32"
   },
   "outputs": [
    {
     "name": "stdout",
     "output_type": "stream",
     "text": [
      "[9 9 9]\n"
     ]
    }
   ],
   "source": [
    "arr=np.array([1,2,3])\n",
    "for i in range(len(arr)):\n",
    "  arr[i]=9\n",
    "print(arr)"
   ]
  },
  {
   "cell_type": "markdown",
   "metadata": {
    "id": "5SkuiJsXkfDD"
   },
   "source": [
    "# 16."
   ]
  },
  {
   "cell_type": "code",
   "execution_count": 10,
   "metadata": {
    "colab": {
     "base_uri": "https://localhost:8080/"
    },
    "id": "RdZP_Eppkgt6",
    "outputId": "2b2abe04-b099-4440-9dd0-e1c25503b447"
   },
   "outputs": [
    {
     "name": "stdout",
     "output_type": "stream",
     "text": [
      "11\n"
     ]
    }
   ],
   "source": [
    "arr=np.array([2,4,5])\n",
    "sum=0\n",
    "for i in arr:\n",
    "  sum+=i\n",
    "print(sum)"
   ]
  },
  {
   "cell_type": "markdown",
   "metadata": {
    "id": "V5aKlggnkmWn"
   },
   "source": [
    "# 17."
   ]
  },
  {
   "cell_type": "code",
   "execution_count": 43,
   "metadata": {
    "colab": {
     "base_uri": "https://localhost:8080/"
    },
    "id": "mjH4UnDjkn7X",
    "outputId": "7c507c64-8cec-4414-ed96-4d6fa57cd4a0"
   },
   "outputs": [
    {
     "name": "stdout",
     "output_type": "stream",
     "text": [
      "427350\n"
     ]
    }
   ],
   "source": [
    "arr=np.array([77,74,75])\n",
    "prod=1\n",
    "for i in arr:\n",
    "  prod*=i\n",
    "print(prod)"
   ]
  },
  {
   "cell_type": "markdown",
   "metadata": {
    "id": "1zoCGJV-kuD7"
   },
   "source": [
    "# 18."
   ]
  },
  {
   "cell_type": "code",
   "execution_count": 44,
   "metadata": {
    "colab": {
     "base_uri": "https://localhost:8080/"
    },
    "id": "jc-EwJO-kwVb",
    "outputId": "ecfc781e-1ea6-4454-f776-52a2d57e3ef7"
   },
   "outputs": [
    {
     "name": "stdout",
     "output_type": "stream",
     "text": [
      "12.461538461538462\n",
      "367.32544378698225\n",
      "56\n",
      "1\n",
      "1\n",
      "2.0\n",
      "12\n",
      "19.165736192147232\n"
     ]
    }
   ],
   "source": [
    "arr=np.array([2,1,9,1,2,22,1,1,4,55,6,2,56])\n",
    "print(np.mean(arr))\n",
    "print(np.var(arr))\n",
    "print(np.max(arr))\n",
    "print(np.min(arr))\n",
    "print(np.argmin(arr))\n",
    "print(np.median(arr))\n",
    "print(np.argmax(arr))\n",
    "print(np.std(arr))"
   ]
  },
  {
   "cell_type": "markdown",
   "metadata": {
    "id": "u_kAk7IalPeH"
   },
   "source": [
    "# 19."
   ]
  },
  {
   "cell_type": "code",
   "execution_count": 45,
   "metadata": {
    "colab": {
     "base_uri": "https://localhost:8080/"
    },
    "id": "Jc9Lmlp1lSu6",
    "outputId": "256c9c1d-fbac-4a8e-9b7a-9332e69bca15"
   },
   "outputs": [
    {
     "name": "stdout",
     "output_type": "stream",
     "text": [
      "[1 4 5 7]\n"
     ]
    }
   ],
   "source": [
    "arr=np.array([1, 1, 7, 5, 5, 5, 4])\n",
    "temp=np.array(np.unique(arr))\n",
    "temp.sort()\n",
    "print(temp)"
   ]
  },
  {
   "cell_type": "markdown",
   "metadata": {
    "id": "GFM5qh-zl40Z"
   },
   "source": [
    "# 20."
   ]
  },
  {
   "cell_type": "code",
   "execution_count": 46,
   "metadata": {
    "colab": {
     "base_uri": "https://localhost:8080/"
    },
    "id": "F563GZryl6b6",
    "outputId": "dbdcf15a-a6ec-4a7e-82b7-e7ab6ce07071"
   },
   "outputs": [
    {
     "name": "stdout",
     "output_type": "stream",
     "text": [
      "5\n"
     ]
    }
   ],
   "source": [
    "x=np.array([1,2,3])\n",
    "y=np.array([0,1,1])\n",
    "print(np.dot(x,y))"
   ]
  },
  {
   "cell_type": "markdown",
   "metadata": {
    "id": "sHHgZdZMmJbu"
   },
   "source": [
    "# 21."
   ]
  },
  {
   "cell_type": "code",
   "execution_count": 48,
   "metadata": {
    "colab": {
     "base_uri": "https://localhost:8080/"
    },
    "id": "_j-4qwiXmLHf",
    "outputId": "3c35de8d-c6a7-4bf7-a074-6f868d7580a1"
   },
   "outputs": [
    {
     "name": "stdout",
     "output_type": "stream",
     "text": [
      "[-1. -2.]\n",
      "[[0.9701425  0.9486833 ]\n",
      " [0.24253563 0.31622777]]\n"
     ]
    }
   ],
   "source": [
    "import numpy as np\n",
    "from numpy.linalg import eig\n",
    "a = np.array([[2, -12], \n",
    "              [1, -5]])\n",
    "w,v=eig(a)\n",
    "print(w)\n",
    "print(v)"
   ]
  }
 ],
 "metadata": {
  "colab": {
   "collapsed_sections": [],
   "provenance": []
  },
  "kernelspec": {
   "display_name": "Python 3 (ipykernel)",
   "language": "python",
   "name": "python3"
  },
  "language_info": {
   "codemirror_mode": {
    "name": "ipython",
    "version": 3
   },
   "file_extension": ".py",
   "mimetype": "text/x-python",
   "name": "python",
   "nbconvert_exporter": "python",
   "pygments_lexer": "ipython3",
   "version": "3.9.12"
  }
 },
 "nbformat": 4,
 "nbformat_minor": 1
}
