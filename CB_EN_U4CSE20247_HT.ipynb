{
  "cells": [
    {
      "cell_type": "code",
      "execution_count": null,
      "metadata": {
        "id": "2nkOPHUVjN0h"
      },
      "outputs": [],
      "source": [
        "import pandas as pd\n",
        "import numpy as np\n",
        "import matplotlib.pyplot as plt\n",
        "import seaborn as sns\n",
        "import scipy.stats as st"
      ]
    },
    {
      "cell_type": "code",
      "execution_count": null,
      "metadata": {
        "id": "yxPFVKm5jN0k"
      },
      "outputs": [],
      "source": [
        "n=80 #sample size"
      ]
    },
    {
      "cell_type": "code",
      "execution_count": null,
      "metadata": {
        "id": "pmrvcmtxjN0l"
      },
      "outputs": [],
      "source": [
        "df=pd.read_csv('Ajio.csv')"
      ]
    },
    {
      "cell_type": "code",
      "execution_count": null,
      "metadata": {
        "id": "65ytH0jFjN0l",
        "outputId": "68539a84-339b-4ab1-8422-bdc0816f135a"
      },
      "outputs": [
        {
          "data": {
            "text/html": [
              "<div>\n",
              "<style scoped>\n",
              "    .dataframe tbody tr th:only-of-type {\n",
              "        vertical-align: middle;\n",
              "    }\n",
              "\n",
              "    .dataframe tbody tr th {\n",
              "        vertical-align: top;\n",
              "    }\n",
              "\n",
              "    .dataframe thead th {\n",
              "        text-align: right;\n",
              "    }\n",
              "</style>\n",
              "<table border=\"1\" class=\"dataframe\">\n",
              "  <thead>\n",
              "    <tr style=\"text-align: right;\">\n",
              "      <th></th>\n",
              "      <th>Product_URL</th>\n",
              "      <th>Brand</th>\n",
              "      <th>Description</th>\n",
              "      <th>Id_Product</th>\n",
              "      <th>URL_image</th>\n",
              "      <th>Category_by_gender</th>\n",
              "      <th>Discount Price (in Rs.)</th>\n",
              "      <th>Original Price (in Rs.)</th>\n",
              "      <th>Color</th>\n",
              "    </tr>\n",
              "  </thead>\n",
              "  <tbody>\n",
              "    <tr>\n",
              "      <th>0</th>\n",
              "      <td>https://www.ajio.com/netplay-checked-polo-t-sh...</td>\n",
              "      <td>netplay</td>\n",
              "      <td>Checked Polo T-shirt</td>\n",
              "      <td>4.411370e+11</td>\n",
              "      <td>https://assets.ajio.com/medias/sys_master/root...</td>\n",
              "      <td>Men</td>\n",
              "      <td>559</td>\n",
              "      <td>699</td>\n",
              "      <td>white</td>\n",
              "    </tr>\n",
              "    <tr>\n",
              "      <th>1</th>\n",
              "      <td>https://www.ajio.com/netplay-tapered-fit-flat-...</td>\n",
              "      <td>netplay</td>\n",
              "      <td>Tapered Fit Flat-Front Trousers</td>\n",
              "      <td>4.411240e+11</td>\n",
              "      <td>https://assets.ajio.com/medias/sys_master/root...</td>\n",
              "      <td>Men</td>\n",
              "      <td>720</td>\n",
              "      <td>1,499</td>\n",
              "      <td>navy</td>\n",
              "    </tr>\n",
              "    <tr>\n",
              "      <th>2</th>\n",
              "      <td>https://www.ajio.com/the-indian-garage-co-stri...</td>\n",
              "      <td>the-indian-garage-co</td>\n",
              "      <td>Striped Slim Fit Shirt with Patch Pocket</td>\n",
              "      <td>4.604540e+11</td>\n",
              "      <td>https://assets.ajio.com/medias/sys_master/root...</td>\n",
              "      <td>Men</td>\n",
              "      <td>495</td>\n",
              "      <td>1,649</td>\n",
              "      <td>white</td>\n",
              "    </tr>\n",
              "    <tr>\n",
              "      <th>3</th>\n",
              "      <td>https://www.ajio.com/performax-heathered-crew-...</td>\n",
              "      <td>performax</td>\n",
              "      <td>Heathered Crew-Neck T-shirt</td>\n",
              "      <td>4.410370e+11</td>\n",
              "      <td>https://assets.ajio.com/medias/sys_master/root...</td>\n",
              "      <td>Men</td>\n",
              "      <td>329</td>\n",
              "      <td>599</td>\n",
              "      <td>charcoal</td>\n",
              "    </tr>\n",
              "    <tr>\n",
              "      <th>4</th>\n",
              "      <td>https://www.ajio.com/john-players-jeans-washed...</td>\n",
              "      <td>john-players-jeans</td>\n",
              "      <td>Washed Skinny Fit Jeans with Whiskers</td>\n",
              "      <td>4.411290e+11</td>\n",
              "      <td>https://assets.ajio.com/medias/sys_master/root...</td>\n",
              "      <td>Men</td>\n",
              "      <td>899</td>\n",
              "      <td>999</td>\n",
              "      <td>jetblack</td>\n",
              "    </tr>\n",
              "    <tr>\n",
              "      <th>...</th>\n",
              "      <td>...</td>\n",
              "      <td>...</td>\n",
              "      <td>...</td>\n",
              "      <td>...</td>\n",
              "      <td>...</td>\n",
              "      <td>...</td>\n",
              "      <td>...</td>\n",
              "      <td>...</td>\n",
              "      <td>...</td>\n",
              "    </tr>\n",
              "    <tr>\n",
              "      <th>1004</th>\n",
              "      <td>https://www.ajio.com/wild-west-printed-polo-t-...</td>\n",
              "      <td>wild-west</td>\n",
              "      <td>Printed Polo T-shirt</td>\n",
              "      <td>4.640420e+11</td>\n",
              "      <td>https://assets.ajio.com/medias/sys_master/root...</td>\n",
              "      <td>Men</td>\n",
              "      <td>689</td>\n",
              "      <td>999</td>\n",
              "      <td>navy</td>\n",
              "    </tr>\n",
              "    <tr>\n",
              "      <th>1005</th>\n",
              "      <td>https://www.ajio.com/dnmx-typographic-print-cr...</td>\n",
              "      <td>dnmx</td>\n",
              "      <td>Typographic Print Crew-Neck T-shirt</td>\n",
              "      <td>4.411190e+11</td>\n",
              "      <td>https://assets.ajio.com/medias/sys_master/root...</td>\n",
              "      <td>Men</td>\n",
              "      <td>319</td>\n",
              "      <td>399</td>\n",
              "      <td>navy</td>\n",
              "    </tr>\n",
              "    <tr>\n",
              "      <th>1006</th>\n",
              "      <td>https://www.ajio.com/the-indian-garage-co-leaf...</td>\n",
              "      <td>the-indian-garage-co</td>\n",
              "      <td>Leaf Print Slim Fit Shirt</td>\n",
              "      <td>4.605530e+11</td>\n",
              "      <td>https://assets.ajio.com/medias/sys_master/root...</td>\n",
              "      <td>Men</td>\n",
              "      <td>483</td>\n",
              "      <td>2,099</td>\n",
              "      <td>white</td>\n",
              "    </tr>\n",
              "    <tr>\n",
              "      <th>1007</th>\n",
              "      <td>https://www.ajio.com/u-s-polo-assn-graphic-pri...</td>\n",
              "      <td>u-s-polo-assn-</td>\n",
              "      <td>Graphic Print Crew-Neck T-shirt</td>\n",
              "      <td>4.690800e+11</td>\n",
              "      <td>https://assets.ajio.com/medias/sys_master/root...</td>\n",
              "      <td>Men</td>\n",
              "      <td>588</td>\n",
              "      <td>1,199</td>\n",
              "      <td>teal</td>\n",
              "    </tr>\n",
              "    <tr>\n",
              "      <th>1008</th>\n",
              "      <td>https://www.ajio.com/u-s-polo-assn-geometric-p...</td>\n",
              "      <td>u-s-polo-assn-</td>\n",
              "      <td>Geometric Print Shirt with Patch Pocket</td>\n",
              "      <td>4.690800e+11</td>\n",
              "      <td>https://assets.ajio.com/medias/sys_master/root...</td>\n",
              "      <td>Men</td>\n",
              "      <td>1,039</td>\n",
              "      <td>1,999</td>\n",
              "      <td>red</td>\n",
              "    </tr>\n",
              "  </tbody>\n",
              "</table>\n",
              "<p>1009 rows × 9 columns</p>\n",
              "</div>"
            ],
            "text/plain": [
              "                                            Product_URL                 Brand  \\\n",
              "0     https://www.ajio.com/netplay-checked-polo-t-sh...               netplay   \n",
              "1     https://www.ajio.com/netplay-tapered-fit-flat-...               netplay   \n",
              "2     https://www.ajio.com/the-indian-garage-co-stri...  the-indian-garage-co   \n",
              "3     https://www.ajio.com/performax-heathered-crew-...             performax   \n",
              "4     https://www.ajio.com/john-players-jeans-washed...    john-players-jeans   \n",
              "...                                                 ...                   ...   \n",
              "1004  https://www.ajio.com/wild-west-printed-polo-t-...             wild-west   \n",
              "1005  https://www.ajio.com/dnmx-typographic-print-cr...                  dnmx   \n",
              "1006  https://www.ajio.com/the-indian-garage-co-leaf...  the-indian-garage-co   \n",
              "1007  https://www.ajio.com/u-s-polo-assn-graphic-pri...        u-s-polo-assn-   \n",
              "1008  https://www.ajio.com/u-s-polo-assn-geometric-p...        u-s-polo-assn-   \n",
              "\n",
              "                                   Description    Id_Product  \\\n",
              "0                         Checked Polo T-shirt  4.411370e+11   \n",
              "1              Tapered Fit Flat-Front Trousers  4.411240e+11   \n",
              "2     Striped Slim Fit Shirt with Patch Pocket  4.604540e+11   \n",
              "3                  Heathered Crew-Neck T-shirt  4.410370e+11   \n",
              "4        Washed Skinny Fit Jeans with Whiskers  4.411290e+11   \n",
              "...                                        ...           ...   \n",
              "1004                      Printed Polo T-shirt  4.640420e+11   \n",
              "1005       Typographic Print Crew-Neck T-shirt  4.411190e+11   \n",
              "1006                 Leaf Print Slim Fit Shirt  4.605530e+11   \n",
              "1007           Graphic Print Crew-Neck T-shirt  4.690800e+11   \n",
              "1008   Geometric Print Shirt with Patch Pocket  4.690800e+11   \n",
              "\n",
              "                                              URL_image Category_by_gender  \\\n",
              "0     https://assets.ajio.com/medias/sys_master/root...                Men   \n",
              "1     https://assets.ajio.com/medias/sys_master/root...                Men   \n",
              "2     https://assets.ajio.com/medias/sys_master/root...                Men   \n",
              "3     https://assets.ajio.com/medias/sys_master/root...                Men   \n",
              "4     https://assets.ajio.com/medias/sys_master/root...                Men   \n",
              "...                                                 ...                ...   \n",
              "1004  https://assets.ajio.com/medias/sys_master/root...                Men   \n",
              "1005  https://assets.ajio.com/medias/sys_master/root...                Men   \n",
              "1006  https://assets.ajio.com/medias/sys_master/root...                Men   \n",
              "1007  https://assets.ajio.com/medias/sys_master/root...                Men   \n",
              "1008  https://assets.ajio.com/medias/sys_master/root...                Men   \n",
              "\n",
              "     Discount Price (in Rs.) Original Price (in Rs.)     Color  \n",
              "0                        559                     699     white  \n",
              "1                        720                   1,499      navy  \n",
              "2                        495                   1,649     white  \n",
              "3                        329                     599  charcoal  \n",
              "4                        899                     999  jetblack  \n",
              "...                      ...                     ...       ...  \n",
              "1004                     689                     999      navy  \n",
              "1005                     319                     399      navy  \n",
              "1006                     483                   2,099     white  \n",
              "1007                     588                   1,199      teal  \n",
              "1008                   1,039                   1,999       red  \n",
              "\n",
              "[1009 rows x 9 columns]"
            ]
          },
          "execution_count": 63,
          "metadata": {},
          "output_type": "execute_result"
        }
      ],
      "source": [
        "df"
      ]
    },
    {
      "cell_type": "code",
      "execution_count": null,
      "metadata": {
        "id": "Pne76gSmjN0n",
        "outputId": "fb9ae986-40a5-42fc-d1ae-0b184fb42e65"
      },
      "outputs": [
        {
          "data": {
            "text/html": [
              "<div>\n",
              "<style scoped>\n",
              "    .dataframe tbody tr th:only-of-type {\n",
              "        vertical-align: middle;\n",
              "    }\n",
              "\n",
              "    .dataframe tbody tr th {\n",
              "        vertical-align: top;\n",
              "    }\n",
              "\n",
              "    .dataframe thead th {\n",
              "        text-align: right;\n",
              "    }\n",
              "</style>\n",
              "<table border=\"1\" class=\"dataframe\">\n",
              "  <thead>\n",
              "    <tr style=\"text-align: right;\">\n",
              "      <th></th>\n",
              "      <th>Id_Product</th>\n",
              "    </tr>\n",
              "  </thead>\n",
              "  <tbody>\n",
              "    <tr>\n",
              "      <th>count</th>\n",
              "      <td>1.009000e+03</td>\n",
              "    </tr>\n",
              "    <tr>\n",
              "      <th>mean</th>\n",
              "      <td>4.485616e+11</td>\n",
              "    </tr>\n",
              "    <tr>\n",
              "      <th>std</th>\n",
              "      <td>1.232813e+10</td>\n",
              "    </tr>\n",
              "    <tr>\n",
              "      <th>min</th>\n",
              "      <td>4.102240e+11</td>\n",
              "    </tr>\n",
              "    <tr>\n",
              "      <th>25%</th>\n",
              "      <td>4.411200e+11</td>\n",
              "    </tr>\n",
              "    <tr>\n",
              "      <th>50%</th>\n",
              "      <td>4.411300e+11</td>\n",
              "    </tr>\n",
              "    <tr>\n",
              "      <th>75%</th>\n",
              "      <td>4.608860e+11</td>\n",
              "    </tr>\n",
              "    <tr>\n",
              "      <th>max</th>\n",
              "      <td>4.691950e+11</td>\n",
              "    </tr>\n",
              "  </tbody>\n",
              "</table>\n",
              "</div>"
            ],
            "text/plain": [
              "         Id_Product\n",
              "count  1.009000e+03\n",
              "mean   4.485616e+11\n",
              "std    1.232813e+10\n",
              "min    4.102240e+11\n",
              "25%    4.411200e+11\n",
              "50%    4.411300e+11\n",
              "75%    4.608860e+11\n",
              "max    4.691950e+11"
            ]
          },
          "execution_count": 64,
          "metadata": {},
          "output_type": "execute_result"
        }
      ],
      "source": [
        "df.describe()\n"
      ]
    },
    {
      "cell_type": "code",
      "execution_count": null,
      "metadata": {
        "id": "MGfFN7QijN0o",
        "outputId": "07290122-b387-4845-dc5e-8d7f1b1bc880"
      },
      "outputs": [
        {
          "name": "stdout",
          "output_type": "stream",
          "text": [
            "<class 'pandas.core.frame.DataFrame'>\n",
            "RangeIndex: 1009 entries, 0 to 1008\n",
            "Data columns (total 9 columns):\n",
            " #   Column                   Non-Null Count  Dtype  \n",
            "---  ------                   --------------  -----  \n",
            " 0   Product_URL              1009 non-null   object \n",
            " 1   Brand                    1009 non-null   object \n",
            " 2   Description              1009 non-null   object \n",
            " 3   Id_Product               1009 non-null   float64\n",
            " 4   URL_image                1009 non-null   object \n",
            " 5   Category_by_gender       1009 non-null   object \n",
            " 6   Discount Price (in Rs.)  1009 non-null   object \n",
            " 7   Original Price (in Rs.)  1009 non-null   object \n",
            " 8   Color                    1009 non-null   object \n",
            "dtypes: float64(1), object(8)\n",
            "memory usage: 71.1+ KB\n"
          ]
        }
      ],
      "source": [
        "df.info()"
      ]
    },
    {
      "cell_type": "code",
      "execution_count": null,
      "metadata": {
        "id": "E7tl3cGujN0o"
      },
      "outputs": [],
      "source": [
        "df['Discount Price (in Rs.)'] = df['Discount Price (in Rs.)'].str.strip(',')\n",
        "df['Discount Price (in Rs.)'] = pd.to_numeric(df['Discount Price (in Rs.)'],errors='coerce')"
      ]
    },
    {
      "cell_type": "code",
      "execution_count": null,
      "metadata": {
        "id": "6eDn-35TjN0p",
        "outputId": "d01f83c7-f1aa-4666-f54b-89cc93adbb1b"
      },
      "outputs": [
        {
          "name": "stdout",
          "output_type": "stream",
          "text": [
            "<class 'pandas.core.frame.DataFrame'>\n",
            "RangeIndex: 1009 entries, 0 to 1008\n",
            "Data columns (total 9 columns):\n",
            " #   Column                   Non-Null Count  Dtype  \n",
            "---  ------                   --------------  -----  \n",
            " 0   Product_URL              1009 non-null   object \n",
            " 1   Brand                    1009 non-null   object \n",
            " 2   Description              1009 non-null   object \n",
            " 3   Id_Product               1009 non-null   float64\n",
            " 4   URL_image                1009 non-null   object \n",
            " 5   Category_by_gender       1009 non-null   object \n",
            " 6   Discount Price (in Rs.)  834 non-null    float64\n",
            " 7   Original Price (in Rs.)  1009 non-null   object \n",
            " 8   Color                    1009 non-null   object \n",
            "dtypes: float64(2), object(7)\n",
            "memory usage: 71.1+ KB\n"
          ]
        }
      ],
      "source": [
        "df.info()"
      ]
    },
    {
      "cell_type": "code",
      "execution_count": null,
      "metadata": {
        "id": "YuCCLTImjN0p",
        "outputId": "4e39db2c-335e-4133-8153-cef232f98893"
      },
      "outputs": [
        {
          "data": {
            "text/plain": [
              "574.6642685851319"
            ]
          },
          "execution_count": 68,
          "metadata": {},
          "output_type": "execute_result"
        }
      ],
      "source": [
        "m=df['Discount Price (in Rs.)'].mean()\n",
        "m #population mean"
      ]
    },
    {
      "cell_type": "markdown",
      "metadata": {
        "id": "f9PshrpMjN0q"
      },
      "source": [
        "Z - Test"
      ]
    },
    {
      "cell_type": "markdown",
      "metadata": {
        "id": "nPZnxwr8jN0r"
      },
      "source": [
        "Null Hypothesis      : H0 : Average discount price is 575 rupees (m==sm)\n",
        "Alternate Hypothesis : H1 : Average discount price is not 575 rupees (m!=sm)"
      ]
    },
    {
      "cell_type": "code",
      "execution_count": null,
      "metadata": {
        "id": "Vu0e6IAUjN0r",
        "outputId": "8298f4ef-a92e-4f83-b673-fa9df9871c23"
      },
      "outputs": [
        {
          "data": {
            "text/plain": [
              "589.9852941176471"
            ]
          },
          "execution_count": 69,
          "metadata": {},
          "output_type": "execute_result"
        }
      ],
      "source": [
        "sample = df.sample(n)\n",
        "sm=sample['Discount Price (in Rs.)'].mean()\n",
        "sm #sample mean"
      ]
    },
    {
      "cell_type": "code",
      "execution_count": null,
      "metadata": {
        "id": "PMIOPdAUjN0s",
        "outputId": "9e5daea1-5fbc-4f54-bf4a-76a622503eeb"
      },
      "outputs": [
        {
          "data": {
            "text/plain": [
              "187.37316049276248"
            ]
          },
          "execution_count": 70,
          "metadata": {},
          "output_type": "execute_result"
        }
      ],
      "source": [
        "sd=sample['Discount Price (in Rs.)'].std()\n",
        "sd #standard deviation"
      ]
    },
    {
      "cell_type": "code",
      "execution_count": null,
      "metadata": {
        "id": "jmsVl0psjN0s",
        "outputId": "5fcfcaea-efb2-4a16-fb07-ab8bb3ad669e"
      },
      "outputs": [
        {
          "data": {
            "text/plain": [
              "0.7313503062150046"
            ]
          },
          "execution_count": 72,
          "metadata": {},
          "output_type": "execute_result"
        }
      ],
      "source": [
        "alpha=0.05 #test statistics\n",
        "z= (sm-m)/(sd/np.sqrt(n))\n",
        "z"
      ]
    },
    {
      "cell_type": "code",
      "execution_count": null,
      "metadata": {
        "id": "fMoz_ODxjN0t",
        "outputId": "2049dd10-6a95-4196-9cd8-8b8a6e7f8e83"
      },
      "outputs": [
        {
          "data": {
            "text/plain": [
              "-1.9599639845400545"
            ]
          },
          "execution_count": 75,
          "metadata": {},
          "output_type": "execute_result"
        }
      ],
      "source": [
        "z_critical = st.norm.ppf(alpha/2)\n",
        "z_critical"
      ]
    },
    {
      "cell_type": "code",
      "execution_count": null,
      "metadata": {
        "id": "CR7n5n1yjN0u",
        "outputId": "0dfe8bc9-c761-4e09-c9b8-f80a04a55a75"
      },
      "outputs": [
        {
          "name": "stdout",
          "output_type": "stream",
          "text": [
            "Fail to Reject Null Hypothesis\n"
          ]
        }
      ],
      "source": [
        "if (z>abs(z_critical)): # two tail test\n",
        "  print('Rejecting Null Hypothesis')\n",
        "else:\n",
        "  print('Fail to Reject Null Hypothesis')"
      ]
    }
  ],
  "metadata": {
    "kernelspec": {
      "display_name": "Python 3",
      "language": "python",
      "name": "python3"
    },
    "language_info": {
      "codemirror_mode": {
        "name": "ipython",
        "version": 3
      },
      "file_extension": ".py",
      "mimetype": "text/x-python",
      "name": "python",
      "nbconvert_exporter": "python",
      "pygments_lexer": "ipython3",
      "version": "3.10.9"
    },
    "orig_nbformat": 4,
    "vscode": {
      "interpreter": {
        "hash": "6654f909d507828b484bd84bff33c4891e922175536f619c555b1cb91707b697"
      }
    },
    "colab": {
      "provenance": []
    }
  },
  "nbformat": 4,
  "nbformat_minor": 0
}