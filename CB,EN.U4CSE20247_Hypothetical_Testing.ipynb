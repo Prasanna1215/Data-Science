{
  "nbformat": 4,
  "nbformat_minor": 0,
  "metadata": {
    "colab": {
      "provenance": []
    },
    "kernelspec": {
      "name": "python3",
      "display_name": "Python 3"
    },
    "language_info": {
      "name": "python"
    }
  },
  "cells": [
    {
      "cell_type": "code",
      "execution_count": 22,
      "metadata": {
        "id": "2fOSOoNhJVFF"
      },
      "outputs": [],
      "source": [
        "import scipy.stats as st\n",
        "import numpy as np"
      ]
    },
    {
      "cell_type": "markdown",
      "source": [
        "Hypothetical Testing"
      ],
      "metadata": {
        "id": "lRYCiBYdJhqq"
      }
    },
    {
      "cell_type": "code",
      "source": [
        "#A researcher believes that the mean age of medical doctors in a large hospital system is older than the average age of doctors in the United States, which is 46. Assume the population standard deviation is 4.2 years. A random sample of 30 doctors from the system is selected, and the mean age of the sample is 48.6. Test the claim at α = 0.05."
      ],
      "metadata": {
        "id": "hidZ8yJGJlwo"
      },
      "execution_count": 1,
      "outputs": []
    },
    {
      "cell_type": "code",
      "source": [
        "#h0 = mu1 <= 46 \n",
        "#h1 = mu1 > 46\n",
        "m = 46\n",
        "std = 4.2\n",
        "n=30\n",
        "x = 48.6\n",
        "a = 0.05 "
      ],
      "metadata": {
        "id": "y69m2CnsJrOn"
      },
      "execution_count": 2,
      "outputs": []
    },
    {
      "cell_type": "code",
      "source": [
        "z_critical = abs(st.norm.ppf(a))"
      ],
      "metadata": {
        "id": "g7fXWpHRKg5I"
      },
      "execution_count": 8,
      "outputs": []
    },
    {
      "cell_type": "code",
      "source": [
        "z = (x-m)/(std/np.sqrt(n))\n",
        "z"
      ],
      "metadata": {
        "colab": {
          "base_uri": "https://localhost:8080/"
        },
        "id": "JXVy2csYLNHM",
        "outputId": "b94456b9-b582-45fd-ccea-c250ce845c63"
      },
      "execution_count": 6,
      "outputs": [
        {
          "output_type": "execute_result",
          "data": {
            "text/plain": [
              "3.3906634512224585"
            ]
          },
          "metadata": {},
          "execution_count": 6
        }
      ]
    },
    {
      "cell_type": "code",
      "source": [
        "if (z>z_critical or z<(-z_critical)):\n",
        "  print('Rejecting Null Hypothesis')\n",
        "else:\n",
        "  print('Fail to Reject Null Hypothesis')"
      ],
      "metadata": {
        "colab": {
          "base_uri": "https://localhost:8080/"
        },
        "id": "K6eVU13WMhs2",
        "outputId": "fd6b5f5e-6866-477a-e831-da082197f6cc"
      },
      "execution_count": 9,
      "outputs": [
        {
          "output_type": "stream",
          "name": "stdout",
          "text": [
            "Rejecting Null Hypothesis\n"
          ]
        }
      ]
    },
    {
      "cell_type": "markdown",
      "source": [
        "P test"
      ],
      "metadata": {
        "id": "LNpNOuAwPVi7"
      }
    },
    {
      "cell_type": "code",
      "source": [
        "#A researcher claims that the average wind speed in a certain city is 8 miles per hour. A sample of 32 days has an average wind speed of 8.2 miles per hour. The standard deviation of the population is 0.6 mile per hour. At α = 0.05, is there enough evidence to reject the claim? Use the P-value method."
      ],
      "metadata": {
        "id": "CHKM7Q74NAYm"
      },
      "execution_count": 10,
      "outputs": []
    },
    {
      "cell_type": "code",
      "source": [
        "#h0 =8\n",
        "#h1 !=8\n",
        "m=8\n",
        "n=32\n",
        "x=8.2\n",
        "std=0.6\n",
        "a=0.05"
      ],
      "metadata": {
        "id": "2DE6uvceN4sL"
      },
      "execution_count": 11,
      "outputs": []
    },
    {
      "cell_type": "code",
      "source": [
        "z = (x-m)/(std/np.sqrt(32))\n",
        "z"
      ],
      "metadata": {
        "colab": {
          "base_uri": "https://localhost:8080/"
        },
        "id": "jYsDt0KpPBvA",
        "outputId": "cbe514bb-6c5b-4274-e764-14398ff3f168"
      },
      "execution_count": 12,
      "outputs": [
        {
          "output_type": "execute_result",
          "data": {
            "text/plain": [
              "1.8856180831641203"
            ]
          },
          "metadata": {},
          "execution_count": 12
        }
      ]
    },
    {
      "cell_type": "code",
      "source": [
        "p_val = (1 - st.norm.cdf(z)) * 2\n",
        "p_val"
      ],
      "metadata": {
        "colab": {
          "base_uri": "https://localhost:8080/"
        },
        "id": "dUd402wWPveb",
        "outputId": "e225ed33-1e56-431f-9171-41fa89768c15"
      },
      "execution_count": 14,
      "outputs": [
        {
          "output_type": "execute_result",
          "data": {
            "text/plain": [
              "0.0593464387919207"
            ]
          },
          "metadata": {},
          "execution_count": 14
        }
      ]
    },
    {
      "cell_type": "code",
      "source": [
        "if p_val >a :\n",
        "   print('Not Rejecting Null Hypothesis')\n",
        "else:\n",
        "   print('Reject Null Hypothesis')"
      ],
      "metadata": {
        "colab": {
          "base_uri": "https://localhost:8080/"
        },
        "id": "kjecUUsQP2qn",
        "outputId": "ea7b84a1-3c28-47a7-8c63-8babe764b959"
      },
      "execution_count": 17,
      "outputs": [
        {
          "output_type": "stream",
          "name": "stdout",
          "text": [
            "Not Rejecting Null Hypothesis\n"
          ]
        }
      ]
    },
    {
      "cell_type": "markdown",
      "source": [
        "T - Test"
      ],
      "metadata": {
        "id": "xhDbPESlR2-z"
      }
    },
    {
      "cell_type": "code",
      "source": [
        "#A medical investigation claims that the average number of infections per week at a ­hospital in southwestern Pennsylvania is 16.3. A random sample of 10 weeks had a mean number of 17.7 infections. The sample standard deviation is 1.8. Is there enough evidence to reject the investigator’s claim at α = 0.05? Assume the variable is normally distributed."
      ],
      "metadata": {
        "id": "FeF4dD0jQXTS"
      },
      "execution_count": 18,
      "outputs": []
    },
    {
      "cell_type": "code",
      "source": [
        "n=10\n",
        "dof = n-1\n",
        "m = 16.3\n",
        "x = 17.7\n",
        "std = 1.8\n",
        "#h0 : m=16.3\n",
        "#h1 : m!=16.3"
      ],
      "metadata": {
        "id": "oEpv3WWLSER2"
      },
      "execution_count": 20,
      "outputs": []
    },
    {
      "cell_type": "code",
      "source": [
        "a =0.05\n",
        "t = (x-m)/(std/np.sqrt(n))\n",
        "t"
      ],
      "metadata": {
        "colab": {
          "base_uri": "https://localhost:8080/"
        },
        "id": "lalvofv8SzOr",
        "outputId": "08cb063d-83b7-4d71-820a-93178f1dfc9e"
      },
      "execution_count": 21,
      "outputs": [
        {
          "output_type": "execute_result",
          "data": {
            "text/plain": [
              "2.4595492912420704"
            ]
          },
          "metadata": {},
          "execution_count": 21
        }
      ]
    },
    {
      "cell_type": "code",
      "source": [
        "t_critical = st.t.ppf(a/2, dof)\n",
        "t_critical"
      ],
      "metadata": {
        "colab": {
          "base_uri": "https://localhost:8080/"
        },
        "id": "KDfxe6HvTH8H",
        "outputId": "29095c77-7ae7-4ce3-9fc6-ab252c770213"
      },
      "execution_count": 23,
      "outputs": [
        {
          "output_type": "execute_result",
          "data": {
            "text/plain": [
              "-2.262157162740992"
            ]
          },
          "metadata": {},
          "execution_count": 23
        }
      ]
    },
    {
      "cell_type": "code",
      "source": [
        "if t>abs(t_critical) or  t<t_critical :\n",
        "  print('Reject h0')\n",
        "else:\n",
        "  print('Not rejecting h0')"
      ],
      "metadata": {
        "id": "v_aVQxKoTRrK",
        "outputId": "7e515641-46a2-4ee5-eaf3-5d37e4db2502",
        "colab": {
          "base_uri": "https://localhost:8080/"
        }
      },
      "execution_count": 25,
      "outputs": [
        {
          "output_type": "stream",
          "name": "stdout",
          "text": [
            "Reject h0\n"
          ]
        }
      ]
    },
    {
      "cell_type": "code",
      "source": [
        "import pandas as pd\n"
      ],
      "metadata": {
        "id": "pSzJsrgRVyAe"
      },
      "execution_count": 2,
      "outputs": []
    },
    {
      "cell_type": "markdown",
      "source": [
        "CASE STUDY SAMPLE"
      ],
      "metadata": {
        "id": "zgZLauDoV3eV"
      }
    },
    {
      "cell_type": "code",
      "source": [
        "from google.colab import drive\n",
        "drive.mount('/content/drive')"
      ],
      "metadata": {
        "id": "gTaUqzNcWCTd",
        "outputId": "2df1ce88-108b-4a8c-d357-8ea838162cf0",
        "colab": {
          "base_uri": "https://localhost:8080/"
        }
      },
      "execution_count": 1,
      "outputs": [
        {
          "output_type": "stream",
          "name": "stdout",
          "text": [
            "Mounted at /content/drive\n"
          ]
        }
      ]
    },
    {
      "cell_type": "code",
      "source": [
        "df = pd.read_csv('/content/drive/MyDrive/nifty_500.csv')"
      ],
      "metadata": {
        "id": "amXUIZYaWCkk"
      },
      "execution_count": 3,
      "outputs": []
    },
    {
      "cell_type": "code",
      "source": [
        "df.sample(5)"
      ],
      "metadata": {
        "id": "mjWOOGEHfv4e",
        "outputId": "d45880b6-fc3c-46f9-c7bc-98981ef8556d",
        "colab": {
          "base_uri": "https://localhost:8080/",
          "height": 478
        }
      },
      "execution_count": 11,
      "outputs": [
        {
          "output_type": "execute_result",
          "data": {
            "text/plain": [
              "                      Company Name      Symbol                    Industry  \\\n",
              "82              Castrol India Ltd.  CASTROLIND  Oil Gas & Consumable Fuels   \n",
              "45           Bajaj Electricals Ltd   BAJAJELEC           Consumer Durables   \n",
              "61         Bharat Electronics Ltd.         BEL               Capital Goods   \n",
              "350             Phoenix Mills Ltd.  PHOENIXLTD                      Realty   \n",
              "295  Max Healthcare Institute Ltd.   MAXHEALTH                  Healthcare   \n",
              "\n",
              "    Series    Open     High      Low  Previous Close  Last Traded Price  \\\n",
              "82      EQ   103.3   104.15   102.75          103.30             104.00   \n",
              "45      EQ  1021.0  1048.00  1000.20         1023.95            1042.00   \n",
              "61      EQ   233.0   235.50   227.25          234.10             229.70   \n",
              "350     EQ  1183.7  1214.00  1162.80         1183.70            1173.05   \n",
              "295     EQ   364.6   367.05   357.00          366.95             360.05   \n",
              "\n",
              "     Change Percentage Change  Share Volume  Value (Indian Rupee)  \\\n",
              "82     0.70              0.68        228227          2.364432e+07   \n",
              "45    18.05              1.76        326410          3.350305e+08   \n",
              "61    -4.40             -1.88       5108014          1.175354e+09   \n",
              "350  -10.65             -0.90        172501          2.056402e+08   \n",
              "295   -6.90             -1.88        326670          1.180520e+08   \n",
              "\n",
              "     52 Week High  52 Week Low 365 Day Percentage Change  \\\n",
              "82         150.00        99.05                    -27.81   \n",
              "45        1588.95       858.55                     -0.29   \n",
              "61         259.50       162.35                     31.52   \n",
              "350       1244.95       793.40                     45.21   \n",
              "295        458.05       250.60                     44.18   \n",
              "\n",
              "    30 Day Percentage Change  \n",
              "82                     -4.97  \n",
              "45                      3.41  \n",
              "61                     -0.28  \n",
              "350                     1.44  \n",
              "295                    -3.52  "
            ],
            "text/html": [
              "\n",
              "  <div id=\"df-369c1cd9-9151-4a00-8d49-aa49c7b4e3a2\">\n",
              "    <div class=\"colab-df-container\">\n",
              "      <div>\n",
              "<style scoped>\n",
              "    .dataframe tbody tr th:only-of-type {\n",
              "        vertical-align: middle;\n",
              "    }\n",
              "\n",
              "    .dataframe tbody tr th {\n",
              "        vertical-align: top;\n",
              "    }\n",
              "\n",
              "    .dataframe thead th {\n",
              "        text-align: right;\n",
              "    }\n",
              "</style>\n",
              "<table border=\"1\" class=\"dataframe\">\n",
              "  <thead>\n",
              "    <tr style=\"text-align: right;\">\n",
              "      <th></th>\n",
              "      <th>Company Name</th>\n",
              "      <th>Symbol</th>\n",
              "      <th>Industry</th>\n",
              "      <th>Series</th>\n",
              "      <th>Open</th>\n",
              "      <th>High</th>\n",
              "      <th>Low</th>\n",
              "      <th>Previous Close</th>\n",
              "      <th>Last Traded Price</th>\n",
              "      <th>Change</th>\n",
              "      <th>Percentage Change</th>\n",
              "      <th>Share Volume</th>\n",
              "      <th>Value (Indian Rupee)</th>\n",
              "      <th>52 Week High</th>\n",
              "      <th>52 Week Low</th>\n",
              "      <th>365 Day Percentage Change</th>\n",
              "      <th>30 Day Percentage Change</th>\n",
              "    </tr>\n",
              "  </thead>\n",
              "  <tbody>\n",
              "    <tr>\n",
              "      <th>82</th>\n",
              "      <td>Castrol India Ltd.</td>\n",
              "      <td>CASTROLIND</td>\n",
              "      <td>Oil Gas &amp; Consumable Fuels</td>\n",
              "      <td>EQ</td>\n",
              "      <td>103.3</td>\n",
              "      <td>104.15</td>\n",
              "      <td>102.75</td>\n",
              "      <td>103.30</td>\n",
              "      <td>104.00</td>\n",
              "      <td>0.70</td>\n",
              "      <td>0.68</td>\n",
              "      <td>228227</td>\n",
              "      <td>2.364432e+07</td>\n",
              "      <td>150.00</td>\n",
              "      <td>99.05</td>\n",
              "      <td>-27.81</td>\n",
              "      <td>-4.97</td>\n",
              "    </tr>\n",
              "    <tr>\n",
              "      <th>45</th>\n",
              "      <td>Bajaj Electricals Ltd</td>\n",
              "      <td>BAJAJELEC</td>\n",
              "      <td>Consumer Durables</td>\n",
              "      <td>EQ</td>\n",
              "      <td>1021.0</td>\n",
              "      <td>1048.00</td>\n",
              "      <td>1000.20</td>\n",
              "      <td>1023.95</td>\n",
              "      <td>1042.00</td>\n",
              "      <td>18.05</td>\n",
              "      <td>1.76</td>\n",
              "      <td>326410</td>\n",
              "      <td>3.350305e+08</td>\n",
              "      <td>1588.95</td>\n",
              "      <td>858.55</td>\n",
              "      <td>-0.29</td>\n",
              "      <td>3.41</td>\n",
              "    </tr>\n",
              "    <tr>\n",
              "      <th>61</th>\n",
              "      <td>Bharat Electronics Ltd.</td>\n",
              "      <td>BEL</td>\n",
              "      <td>Capital Goods</td>\n",
              "      <td>EQ</td>\n",
              "      <td>233.0</td>\n",
              "      <td>235.50</td>\n",
              "      <td>227.25</td>\n",
              "      <td>234.10</td>\n",
              "      <td>229.70</td>\n",
              "      <td>-4.40</td>\n",
              "      <td>-1.88</td>\n",
              "      <td>5108014</td>\n",
              "      <td>1.175354e+09</td>\n",
              "      <td>259.50</td>\n",
              "      <td>162.35</td>\n",
              "      <td>31.52</td>\n",
              "      <td>-0.28</td>\n",
              "    </tr>\n",
              "    <tr>\n",
              "      <th>350</th>\n",
              "      <td>Phoenix Mills Ltd.</td>\n",
              "      <td>PHOENIXLTD</td>\n",
              "      <td>Realty</td>\n",
              "      <td>EQ</td>\n",
              "      <td>1183.7</td>\n",
              "      <td>1214.00</td>\n",
              "      <td>1162.80</td>\n",
              "      <td>1183.70</td>\n",
              "      <td>1173.05</td>\n",
              "      <td>-10.65</td>\n",
              "      <td>-0.90</td>\n",
              "      <td>172501</td>\n",
              "      <td>2.056402e+08</td>\n",
              "      <td>1244.95</td>\n",
              "      <td>793.40</td>\n",
              "      <td>45.21</td>\n",
              "      <td>1.44</td>\n",
              "    </tr>\n",
              "    <tr>\n",
              "      <th>295</th>\n",
              "      <td>Max Healthcare Institute Ltd.</td>\n",
              "      <td>MAXHEALTH</td>\n",
              "      <td>Healthcare</td>\n",
              "      <td>EQ</td>\n",
              "      <td>364.6</td>\n",
              "      <td>367.05</td>\n",
              "      <td>357.00</td>\n",
              "      <td>366.95</td>\n",
              "      <td>360.05</td>\n",
              "      <td>-6.90</td>\n",
              "      <td>-1.88</td>\n",
              "      <td>326670</td>\n",
              "      <td>1.180520e+08</td>\n",
              "      <td>458.05</td>\n",
              "      <td>250.60</td>\n",
              "      <td>44.18</td>\n",
              "      <td>-3.52</td>\n",
              "    </tr>\n",
              "  </tbody>\n",
              "</table>\n",
              "</div>\n",
              "      <button class=\"colab-df-convert\" onclick=\"convertToInteractive('df-369c1cd9-9151-4a00-8d49-aa49c7b4e3a2')\"\n",
              "              title=\"Convert this dataframe to an interactive table.\"\n",
              "              style=\"display:none;\">\n",
              "        \n",
              "  <svg xmlns=\"http://www.w3.org/2000/svg\" height=\"24px\"viewBox=\"0 0 24 24\"\n",
              "       width=\"24px\">\n",
              "    <path d=\"M0 0h24v24H0V0z\" fill=\"none\"/>\n",
              "    <path d=\"M18.56 5.44l.94 2.06.94-2.06 2.06-.94-2.06-.94-.94-2.06-.94 2.06-2.06.94zm-11 1L8.5 8.5l.94-2.06 2.06-.94-2.06-.94L8.5 2.5l-.94 2.06-2.06.94zm10 10l.94 2.06.94-2.06 2.06-.94-2.06-.94-.94-2.06-.94 2.06-2.06.94z\"/><path d=\"M17.41 7.96l-1.37-1.37c-.4-.4-.92-.59-1.43-.59-.52 0-1.04.2-1.43.59L10.3 9.45l-7.72 7.72c-.78.78-.78 2.05 0 2.83L4 21.41c.39.39.9.59 1.41.59.51 0 1.02-.2 1.41-.59l7.78-7.78 2.81-2.81c.8-.78.8-2.07 0-2.86zM5.41 20L4 18.59l7.72-7.72 1.47 1.35L5.41 20z\"/>\n",
              "  </svg>\n",
              "      </button>\n",
              "      \n",
              "  <style>\n",
              "    .colab-df-container {\n",
              "      display:flex;\n",
              "      flex-wrap:wrap;\n",
              "      gap: 12px;\n",
              "    }\n",
              "\n",
              "    .colab-df-convert {\n",
              "      background-color: #E8F0FE;\n",
              "      border: none;\n",
              "      border-radius: 50%;\n",
              "      cursor: pointer;\n",
              "      display: none;\n",
              "      fill: #1967D2;\n",
              "      height: 32px;\n",
              "      padding: 0 0 0 0;\n",
              "      width: 32px;\n",
              "    }\n",
              "\n",
              "    .colab-df-convert:hover {\n",
              "      background-color: #E2EBFA;\n",
              "      box-shadow: 0px 1px 2px rgba(60, 64, 67, 0.3), 0px 1px 3px 1px rgba(60, 64, 67, 0.15);\n",
              "      fill: #174EA6;\n",
              "    }\n",
              "\n",
              "    [theme=dark] .colab-df-convert {\n",
              "      background-color: #3B4455;\n",
              "      fill: #D2E3FC;\n",
              "    }\n",
              "\n",
              "    [theme=dark] .colab-df-convert:hover {\n",
              "      background-color: #434B5C;\n",
              "      box-shadow: 0px 1px 3px 1px rgba(0, 0, 0, 0.15);\n",
              "      filter: drop-shadow(0px 1px 2px rgba(0, 0, 0, 0.3));\n",
              "      fill: #FFFFFF;\n",
              "    }\n",
              "  </style>\n",
              "\n",
              "      <script>\n",
              "        const buttonEl =\n",
              "          document.querySelector('#df-369c1cd9-9151-4a00-8d49-aa49c7b4e3a2 button.colab-df-convert');\n",
              "        buttonEl.style.display =\n",
              "          google.colab.kernel.accessAllowed ? 'block' : 'none';\n",
              "\n",
              "        async function convertToInteractive(key) {\n",
              "          const element = document.querySelector('#df-369c1cd9-9151-4a00-8d49-aa49c7b4e3a2');\n",
              "          const dataTable =\n",
              "            await google.colab.kernel.invokeFunction('convertToInteractive',\n",
              "                                                     [key], {});\n",
              "          if (!dataTable) return;\n",
              "\n",
              "          const docLinkHtml = 'Like what you see? Visit the ' +\n",
              "            '<a target=\"_blank\" href=https://colab.research.google.com/notebooks/data_table.ipynb>data table notebook</a>'\n",
              "            + ' to learn more about interactive tables.';\n",
              "          element.innerHTML = '';\n",
              "          dataTable['output_type'] = 'display_data';\n",
              "          await google.colab.output.renderOutput(dataTable, element);\n",
              "          const docLink = document.createElement('div');\n",
              "          docLink.innerHTML = docLinkHtml;\n",
              "          element.appendChild(docLink);\n",
              "        }\n",
              "      </script>\n",
              "    </div>\n",
              "  </div>\n",
              "  "
            ]
          },
          "metadata": {},
          "execution_count": 11
        }
      ]
    },
    {
      "cell_type": "code",
      "source": [
        "x =df['Share Volume'][df['Industry']=='Healthcare'].mean()\n",
        "x"
      ],
      "metadata": {
        "id": "cmce65M_eHe0",
        "outputId": "e20295ec-2f13-43ba-e1e3-d8027cb7faaf",
        "colab": {
          "base_uri": "https://localhost:8080/"
        }
      },
      "execution_count": 9,
      "outputs": [
        {
          "output_type": "execute_result",
          "data": {
            "text/plain": [
              "300019.3653846154"
            ]
          },
          "metadata": {},
          "execution_count": 9
        }
      ]
    },
    {
      "cell_type": "code",
      "source": [
        "z = df['Share Volume'][df['Industry']=='Healthcare']\n",
        "sample = z.sample(36)\n",
        "sample.mean()"
      ],
      "metadata": {
        "id": "EMKPcWMAglbC",
        "outputId": "f0303afc-068d-4eec-9f91-85d54d0d3683",
        "colab": {
          "base_uri": "https://localhost:8080/"
        }
      },
      "execution_count": 16,
      "outputs": [
        {
          "output_type": "execute_result",
          "data": {
            "text/plain": [
              "275848.05555555556"
            ]
          },
          "metadata": {},
          "execution_count": 16
        }
      ]
    },
    {
      "cell_type": "code",
      "source": [
        "y =df['Share Volume'][df['Industry']=='Healthcare'].std()\n",
        "y"
      ],
      "metadata": {
        "id": "7B7WKo3Of69B",
        "outputId": "9dfb5090-34da-4cfa-8ae5-fe171eb038b8",
        "colab": {
          "base_uri": "https://localhost:8080/"
        }
      },
      "execution_count": 12,
      "outputs": [
        {
          "output_type": "execute_result",
          "data": {
            "text/plain": [
              "455996.1289782385"
            ]
          },
          "metadata": {},
          "execution_count": 12
        }
      ]
    },
    {
      "cell_type": "code",
      "source": [
        "#problem statement\n",
        "#Healthcare industries has average share volume of 300019 and standard deviation of 455996 recorded over past 2 weeks. A sample of 36 has been recorded with mean of 275848. There is a claim made by business analysts that average mean has not been changed. Is there enough evidence to reject the claim?"
      ],
      "metadata": {
        "id": "0_zGzLm7WC22"
      },
      "execution_count": 18,
      "outputs": []
    },
    {
      "cell_type": "code",
      "source": [
        "#h0 : mean = 300019\n",
        "#h1: mean != 300019"
      ],
      "metadata": {
        "id": "KOs3e9FOjoWa"
      },
      "execution_count": 19,
      "outputs": []
    },
    {
      "cell_type": "code",
      "source": [
        "#using two tailed test\n",
        "a=0.05\n",
        "m=300019\n",
        "x = 275848\n",
        "n = 36\n",
        "std = 455996\n"
      ],
      "metadata": {
        "id": "md9ct5tZklWw"
      },
      "execution_count": 20,
      "outputs": []
    },
    {
      "cell_type": "code",
      "source": [
        "z= (x-m)/(std/np.sqrt(n))"
      ],
      "metadata": {
        "id": "euPYNCvqk_G4"
      },
      "execution_count": 23,
      "outputs": []
    },
    {
      "cell_type": "code",
      "source": [
        "z"
      ],
      "metadata": {
        "id": "VeJ4G69nlKPM",
        "outputId": "c1c659b3-b5f5-4e0b-c6d8-6cc20e27544d",
        "colab": {
          "base_uri": "https://localhost:8080/"
        }
      },
      "execution_count": 24,
      "outputs": [
        {
          "output_type": "execute_result",
          "data": {
            "text/plain": [
              "-0.31804226352862747"
            ]
          },
          "metadata": {},
          "execution_count": 24
        }
      ]
    },
    {
      "cell_type": "code",
      "source": [
        "z_critical = st.norm.ppf(a/2)\n",
        "z_critical"
      ],
      "metadata": {
        "id": "0BsZiXawlUvx",
        "outputId": "c074ebd8-8fcc-4171-9ac5-f65ede348e8f",
        "colab": {
          "base_uri": "https://localhost:8080/"
        }
      },
      "execution_count": 25,
      "outputs": [
        {
          "output_type": "execute_result",
          "data": {
            "text/plain": [
              "-1.9599639845400545"
            ]
          },
          "metadata": {},
          "execution_count": 25
        }
      ]
    },
    {
      "cell_type": "code",
      "source": [
        "if z>z_critical:\n",
        "  print('Fail to reject H0')\n",
        "else:\n",
        "  print('Rejecting H0')"
      ],
      "metadata": {
        "id": "lww7uuZvmODE",
        "outputId": "e350ee2b-4572-43f3-d9c3-b5243e53b9c0",
        "colab": {
          "base_uri": "https://localhost:8080/"
        }
      },
      "execution_count": 26,
      "outputs": [
        {
          "output_type": "stream",
          "name": "stdout",
          "text": [
            "Fail to reject H0\n"
          ]
        }
      ]
    },
    {
      "cell_type": "code",
      "source": [],
      "metadata": {
        "id": "dWxWgH1im-sx"
      },
      "execution_count": null,
      "outputs": []
    }
  ]
}